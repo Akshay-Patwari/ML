{
  "nbformat": 4,
  "nbformat_minor": 0,
  "metadata": {
    "colab": {
      "name": "day 9(03-06-20).ipynb",
      "provenance": [],
      "authorship_tag": "ABX9TyOpixks/Bv2kdUqWf/Evo47",
      "include_colab_link": true
    },
    "kernelspec": {
      "name": "python3",
      "display_name": "Python 3"
    }
  },
  "cells": [
    {
      "cell_type": "markdown",
      "metadata": {
        "id": "view-in-github",
        "colab_type": "text"
      },
      "source": [
        "<a href=\"https://colab.research.google.com/github/akshaypatwari47/ML/blob/master/day_9(03_06_20).ipynb\" target=\"_parent\"><img src=\"https://colab.research.google.com/assets/colab-badge.svg\" alt=\"Open In Colab\"/></a>"
      ]
    },
    {
      "cell_type": "code",
      "metadata": {
        "id": "qIGSj88L5sE5",
        "colab_type": "code",
        "outputId": "1b297796-8fe0-47df-ad83-18ceeea7d838",
        "colab": {
          "base_uri": "https://localhost:8080/",
          "height": 34
        }
      },
      "source": [
        "#password picker assignment of 01.06.20\n",
        "import string\n",
        "from random import *#random should be written while using choice function          or import random can be used    \n",
        "print(\"Welcome to password picker!!!\")\n",
        "adj = [\"excellent\",\"verygood\",\"good\",\"bad\",\"poor\"]\n",
        "noun = [\"santu\",\"supriya\",\"saas\",\"santhoshi\",\"sai\"]\n",
        "digits = string.digits\n",
        "spl_char = string.punctuation"
      ],
      "execution_count": 0,
      "outputs": [
        {
          "output_type": "stream",
          "text": [
            "Welcome to password picker!!!\n"
          ],
          "name": "stdout"
        }
      ]
    },
    {
      "cell_type": "code",
      "metadata": {
        "id": "fMc6jrHn538M",
        "colab_type": "code",
        "outputId": "356a0c7c-3ef0-4be6-e00a-e7d626d40fc8",
        "colab": {
          "base_uri": "https://localhost:8080/",
          "height": 194
        }
      },
      "source": [
        "while True:\n",
        "  password = choice(adj) + choice(noun) + choice(digits) + choice(spl_char)\n",
        "  print(\"your password is :\" ,password)\n",
        "  print(\"do you want to generate another password?\")\n",
        "  response = input(\"enter yes for new password no for not generating the password!!\")\n",
        "  if response in [\"no\",\"No\",\"NO\",\"nO\"] :\n",
        "    break\n",
        "  elif response in [\"yes\",\"Yes\"]:\n",
        "    continue\n",
        "  else:\n",
        "    print(\"enter either yes or no!!!\")"
      ],
      "execution_count": 0,
      "outputs": [
        {
          "output_type": "stream",
          "text": [
            "your password is : poorsaas2.\n",
            "do you want to generate another password?\n",
            "enter yes for new password no for not generating the password!!yes\n",
            "your password is : goodsantu3[\n",
            "do you want to generate another password?\n",
            "enter yes for new password no for not generating the password!!akshay@9000\n",
            "enter either yes or no!!!\n",
            "your password is : goodsanthoshi8=\n",
            "do you want to generate another password?\n",
            "enter yes for new password no for not generating the password!!no\n"
          ],
          "name": "stdout"
        }
      ]
    },
    {
      "cell_type": "code",
      "metadata": {
        "id": "d6HgBpT06CH4",
        "colab_type": "code",
        "colab": {}
      },
      "source": [
        "##Module:\n",
        "1.pre-defined modules\n",
        "2.User- defined modules"
      ],
      "execution_count": 0,
      "outputs": []
    },
    {
      "cell_type": "code",
      "metadata": {
        "id": "k6jMrSmm6Uzc",
        "colab_type": "code",
        "outputId": "ce0eb8ba-09a5-4621-ec07-3b53e1617ef3",
        "colab": {
          "base_uri": "https://localhost:8080/",
          "height": 34
        }
      },
      "source": [
        "import string\n",
        "string.digits"
      ],
      "execution_count": 0,
      "outputs": [
        {
          "output_type": "execute_result",
          "data": {
            "text/plain": [
              "'0123456789'"
            ]
          },
          "metadata": {
            "tags": []
          },
          "execution_count": 3
        }
      ]
    },
    {
      "cell_type": "code",
      "metadata": {
        "id": "aYtkO8oi6Wt7",
        "colab_type": "code",
        "outputId": "0693be23-1ffb-450e-d4bb-4496762c0569",
        "colab": {
          "base_uri": "https://localhost:8080/",
          "height": 34
        }
      },
      "source": [
        "import string as s#as repersents alias name for string\n",
        "s.digits"
      ],
      "execution_count": 0,
      "outputs": [
        {
          "output_type": "execute_result",
          "data": {
            "text/plain": [
              "'0123456789'"
            ]
          },
          "metadata": {
            "tags": []
          },
          "execution_count": 4
        }
      ]
    },
    {
      "cell_type": "code",
      "metadata": {
        "id": "vWdFYD1d6YyX",
        "colab_type": "code",
        "outputId": "61758bb8-d893-4350-f165-2aed1b7d83b0",
        "colab": {
          "base_uri": "https://localhost:8080/",
          "height": 52
        }
      },
      "source": [
        "from string import digits,punctuation\n",
        "print(digits)\n",
        "print(punctuation)"
      ],
      "execution_count": 0,
      "outputs": [
        {
          "output_type": "stream",
          "text": [
            "0123456789\n",
            "!\"#$%&'()*+,-./:;<=>?@[\\]^_`{|}~\n"
          ],
          "name": "stdout"
        }
      ]
    },
    {
      "cell_type": "code",
      "metadata": {
        "id": "UF9Oc5-S6bR7",
        "colab_type": "code",
        "outputId": "aa0f5cf3-4d38-403f-a530-b5cf2e4e31a5",
        "colab": {
          "base_uri": "https://localhost:8080/",
          "height": 52
        }
      },
      "source": [
        "from string import *#  * is to import all the types of methods\n",
        "print(digits)\n",
        "print(punctuation)"
      ],
      "execution_count": 0,
      "outputs": [
        {
          "output_type": "stream",
          "text": [
            "0123456789\n",
            "!\"#$%&'()*+,-./:;<=>?@[\\]^_`{|}~\n"
          ],
          "name": "stdout"
        }
      ]
    },
    {
      "cell_type": "code",
      "metadata": {
        "id": "yqKJwD_r6fdm",
        "colab_type": "code",
        "outputId": "4f0fc24f-0f62-4fc0-8a9c-ea9fdb68673e",
        "colab": {
          "base_uri": "https://localhost:8080/",
          "height": 34
        }
      },
      "source": [
        "list1 = [1,2,3,4,5]\n",
        "su = 0#integer\n",
        "for i in list1:\n",
        "  su += i\n",
        "print(su) "
      ],
      "execution_count": 0,
      "outputs": [
        {
          "output_type": "stream",
          "text": [
            "15\n"
          ],
          "name": "stdout"
        }
      ]
    },
    {
      "cell_type": "code",
      "metadata": {
        "id": "XRd-BS6R6iOY",
        "colab_type": "code",
        "colab": {}
      },
      "source": [
        "sum(list1)"
      ],
      "execution_count": 0,
      "outputs": []
    },
    {
      "cell_type": "code",
      "metadata": {
        "id": "pTTbE2fu6m20",
        "colab_type": "code",
        "colab": {}
      },
      "source": [
        "#user defined modules:i.e creting our own modules\n",
        "go to folderin which jupyter is present\n",
        "click on new and then text file\n",
        "a untitled text file is opened\n",
        "click on lang and select it as python\n",
        "rename your text file to operations.python\n",
        "more two steps are present ...check it\n",
        "add your code nown (used functions)\n",
        "save it and close the file"
      ],
      "execution_count": 0,
      "outputs": []
    },
    {
      "cell_type": "code",
      "metadata": {
        "id": "ivN7xyBI6pLm",
        "colab_type": "code",
        "colab": {}
      },
      "source": [
        "import operations\n",
        "operations.wish(\"akshay\")#we get output according to the code we have written"
      ],
      "execution_count": 0,
      "outputs": []
    },
    {
      "cell_type": "code",
      "metadata": {
        "id": "WiiNUomx6vdx",
        "colab_type": "code",
        "colab": {}
      },
      "source": [
        "import operations as o\n",
        "o.wish(\"patwari\")\n",
        "o.result#can use help(\"operations\") to get your code in operations file"
      ],
      "execution_count": 0,
      "outputs": []
    },
    {
      "cell_type": "code",
      "metadata": {
        "id": "D9hWe-f06zFO",
        "colab_type": "code",
        "colab": {}
      },
      "source": [
        "#builtin libraries:\n",
        "1.math\n",
        "2.statistics"
      ],
      "execution_count": 0,
      "outputs": []
    },
    {
      "cell_type": "code",
      "metadata": {
        "id": "tFUtcjiJ607m",
        "colab_type": "code",
        "colab": {}
      },
      "source": [
        "import math"
      ],
      "execution_count": 0,
      "outputs": []
    },
    {
      "cell_type": "code",
      "metadata": {
        "id": "UGtTfU2y62vn",
        "colab_type": "code",
        "colab": {}
      },
      "source": [
        "help(\"math\")"
      ],
      "execution_count": 0,
      "outputs": []
    },
    {
      "cell_type": "code",
      "metadata": {
        "id": "0JMOiQO864YV",
        "colab_type": "code",
        "outputId": "aceaf983-1b66-437d-d0bf-a0871862a0ad",
        "colab": {
          "base_uri": "https://localhost:8080/",
          "height": 34
        }
      },
      "source": [
        "import math\n",
        "math.factorial(6)"
      ],
      "execution_count": 0,
      "outputs": [
        {
          "output_type": "execute_result",
          "data": {
            "text/plain": [
              "720"
            ]
          },
          "metadata": {
            "tags": []
          },
          "execution_count": 8
        }
      ]
    },
    {
      "cell_type": "code",
      "metadata": {
        "id": "eZDUAo8b67Fn",
        "colab_type": "code",
        "outputId": "7b270f57-2e3d-4530-a56f-a2a43be08bad",
        "colab": {
          "base_uri": "https://localhost:8080/",
          "height": 34
        }
      },
      "source": [
        "#radius#using math module find area of the circle\n",
        "def Area(radius):\n",
        " return math.pi*(radius)*radius\n",
        "\n",
        "\n",
        "Area(6)"
      ],
      "execution_count": 0,
      "outputs": [
        {
          "output_type": "execute_result",
          "data": {
            "text/plain": [
              "113.09733552923255"
            ]
          },
          "metadata": {
            "tags": []
          },
          "execution_count": 11
        }
      ]
    },
    {
      "cell_type": "code",
      "metadata": {
        "id": "VotoZ4FE694m",
        "colab_type": "code",
        "outputId": "ec020446-50c5-416f-fb85-bc62a2849391",
        "colab": {
          "base_uri": "https://localhost:8080/",
          "height": 34
        }
      },
      "source": [
        "import statistics as s\n",
        "list1 = list(range(1,21))\n",
        "list1"
      ],
      "execution_count": 0,
      "outputs": [
        {
          "output_type": "execute_result",
          "data": {
            "text/plain": [
              "[1, 2, 3, 4, 5, 6, 7, 8, 9, 10, 11, 12, 13, 14, 15, 16, 17, 18, 19, 20]"
            ]
          },
          "metadata": {
            "tags": []
          },
          "execution_count": 12
        }
      ]
    },
    {
      "cell_type": "code",
      "metadata": {
        "id": "AfMNvyvb7Hq1",
        "colab_type": "code",
        "colab": {}
      },
      "source": [
        "print(s.mean(list1))#gives mean value of all elements\n",
        "print(sum(list1)/len(list1))#error is due to sum used before try it alone"
      ],
      "execution_count": 0,
      "outputs": []
    },
    {
      "cell_type": "code",
      "metadata": {
        "id": "lA3D8L6l7LEf",
        "colab_type": "code",
        "outputId": "b3b7d4df-0cbf-45d6-81db-72b2b742c8f3",
        "colab": {
          "base_uri": "https://localhost:8080/",
          "height": 34
        }
      },
      "source": [
        "list2= [1,2,3,2,3,2]\n",
        "print(s.mode(list2))"
      ],
      "execution_count": 0,
      "outputs": [
        {
          "output_type": "stream",
          "text": [
            "2\n"
          ],
          "name": "stdout"
        }
      ]
    },
    {
      "cell_type": "code",
      "metadata": {
        "id": "BSNFP8It7NV1",
        "colab_type": "code",
        "outputId": "30d25275-781e-45d6-df40-168df052b490",
        "colab": {
          "base_uri": "https://localhost:8080/",
          "height": 34
        }
      },
      "source": [
        "print(s.median(list1))"
      ],
      "execution_count": 0,
      "outputs": [
        {
          "output_type": "stream",
          "text": [
            "10.5\n"
          ],
          "name": "stdout"
        }
      ]
    },
    {
      "cell_type": "code",
      "metadata": {
        "id": "REHlld7g7PVG",
        "colab_type": "code",
        "outputId": "227624a3-c7ea-4fcb-8aba-c625a6dc881f",
        "colab": {
          "base_uri": "https://localhost:8080/",
          "height": 34
        }
      },
      "source": [
        "s.stdev(list2)#standard deviation\n"
      ],
      "execution_count": 0,
      "outputs": [
        {
          "output_type": "execute_result",
          "data": {
            "text/plain": [
              "0.752772652709081"
            ]
          },
          "metadata": {
            "tags": []
          },
          "execution_count": 15
        }
      ]
    },
    {
      "cell_type": "code",
      "metadata": {
        "id": "JEQhF2PW7RtV",
        "colab_type": "code",
        "outputId": "66cd49c3-3167-45ce-9f08-690d6e918988",
        "colab": {
          "base_uri": "https://localhost:8080/",
          "height": 34
        }
      },
      "source": [
        "s.variance(list2)#variance"
      ],
      "execution_count": 0,
      "outputs": [
        {
          "output_type": "execute_result",
          "data": {
            "text/plain": [
              "0.5666666666666667"
            ]
          },
          "metadata": {
            "tags": []
          },
          "execution_count": 16
        }
      ]
    },
    {
      "cell_type": "code",
      "metadata": {
        "id": "YTXxpr_g7T8n",
        "colab_type": "code",
        "colab": {}
      },
      "source": [
        "##random:it is a builtin methods\n",
        "1.randit() -->randit(start,stop)\n",
        "2.random()\n",
        "3.choice()\n",
        "4.randrange()"
      ],
      "execution_count": 0,
      "outputs": []
    },
    {
      "cell_type": "code",
      "metadata": {
        "id": "UzjHyQeU7V1I",
        "colab_type": "code",
        "outputId": "53b29778-1323-4181-a503-4c462a5bc28d",
        "colab": {
          "base_uri": "https://localhost:8080/",
          "height": 70
        }
      },
      "source": [
        "import random\n",
        "print(random.randint(1,10))#start and stop values are included ,a random number is printed\n",
        "print(random.randrange(1,10))#stop value is excluded                    random and randrange are to generate random integers\n",
        "print(random.random())#creates random float value between 0 and 1"
      ],
      "execution_count": 0,
      "outputs": [
        {
          "output_type": "stream",
          "text": [
            "8\n",
            "9\n",
            "0.3231924059761333\n"
          ],
          "name": "stdout"
        }
      ]
    },
    {
      "cell_type": "code",
      "metadata": {
        "id": "VhHbfNSQ7XxJ",
        "colab_type": "code",
        "outputId": "25f30e45-71f2-43e1-be2e-e98a36af83d6",
        "colab": {
          "base_uri": "https://localhost:8080/",
          "height": 52
        }
      },
      "source": [
        "list1 = [1,2,3,4,5,6,7,8]\n",
        "print(random.choice(list1))#choice generates element from the given list\n",
        "print(random.choices(list1,k = 5))#k represents number of are to be extracted from list          choices is to extract multiple elements"
      ],
      "execution_count": 0,
      "outputs": [
        {
          "output_type": "stream",
          "text": [
            "8\n",
            "[6, 1, 3, 7, 4]\n"
          ],
          "name": "stdout"
        }
      ]
    },
    {
      "cell_type": "code",
      "metadata": {
        "id": "wQK3ebVS7aZ1",
        "colab_type": "code",
        "colab": {}
      },
      "source": [
        "#os:\n",
        "1.rename()-->renaming\n",
        "2.remove()-->removing\n",
        "3.mkdir()-->make a directory\n",
        "4.getcwd()-->gives current working directory\n",
        "5.listdir()-->gives list of things available in directory\n",
        "6.chdir()-->change directory\n",
        "7.rmdir()-->removing directory"
      ],
      "execution_count": 0,
      "outputs": []
    },
    {
      "cell_type": "code",
      "metadata": {
        "id": "fyBh1VBu7c39",
        "colab_type": "code",
        "colab": {}
      },
      "source": [
        "import os\n",
        "os.mkdir(\"sample\")"
      ],
      "execution_count": 0,
      "outputs": []
    },
    {
      "cell_type": "code",
      "metadata": {
        "id": "OZdTmWMe7f76",
        "colab_type": "code",
        "colab": {}
      },
      "source": [
        "os.getcwd()#pwd is present only in jupyter so cwd can be used anywhere"
      ],
      "execution_count": 0,
      "outputs": []
    },
    {
      "cell_type": "code",
      "metadata": {
        "id": "LLIanw8n7iHq",
        "colab_type": "code",
        "colab": {}
      },
      "source": [
        "os.listdir()"
      ],
      "execution_count": 0,
      "outputs": []
    },
    {
      "cell_type": "code",
      "metadata": {
        "id": "VSEIjQug7j74",
        "colab_type": "code",
        "colab": {}
      },
      "source": [
        "os.chdir(......................\\\\otherfoldername)"
      ],
      "execution_count": 0,
      "outputs": []
    },
    {
      "cell_type": "code",
      "metadata": {
        "id": "757EUypa7l4U",
        "colab_type": "code",
        "colab": {}
      },
      "source": [
        "#while removing a folder make sure that that folder is empty\n",
        "os.rmdir(\"sample\")"
      ],
      "execution_count": 0,
      "outputs": []
    },
    {
      "cell_type": "code",
      "metadata": {
        "id": "LNbZYyw67nnW",
        "colab_type": "code",
        "colab": {}
      },
      "source": [
        "##Numpy packages:\n",
        "-operations related to numerics\n",
        "-computational operations"
      ],
      "execution_count": 0,
      "outputs": []
    },
    {
      "cell_type": "code",
      "metadata": {
        "id": "J8hNREwV7pFb",
        "colab_type": "code",
        "outputId": "7ea99722-eae2-4d9e-ec27-a346858cc8a6",
        "colab": {
          "base_uri": "https://localhost:8080/",
          "height": 34
        }
      },
      "source": [
        "import numpy as np\n",
        "list1 = [1,2,3,4,5]\n",
        "arr1 = np.array(list1)#creating an array\n",
        "arr1"
      ],
      "execution_count": 0,
      "outputs": [
        {
          "output_type": "execute_result",
          "data": {
            "text/plain": [
              "array([1, 2, 3, 4, 5])"
            ]
          },
          "metadata": {
            "tags": []
          },
          "execution_count": 19
        }
      ]
    },
    {
      "cell_type": "code",
      "metadata": {
        "id": "AFaJBHIy7q6u",
        "colab_type": "code",
        "outputId": "8d8a805f-c30c-4a85-9c19-c6ff351d53d3",
        "colab": {
          "base_uri": "https://localhost:8080/",
          "height": 34
        }
      },
      "source": [
        "type(arr1)"
      ],
      "execution_count": 0,
      "outputs": [
        {
          "output_type": "execute_result",
          "data": {
            "text/plain": [
              "numpy.ndarray"
            ]
          },
          "metadata": {
            "tags": []
          },
          "execution_count": 20
        }
      ]
    },
    {
      "cell_type": "code",
      "metadata": {
        "id": "zl8QP-WU7tc0",
        "colab_type": "code",
        "outputId": "14b4b6c9-2382-4926-dac2-2664fd534f09",
        "colab": {
          "base_uri": "https://localhost:8080/",
          "height": 34
        }
      },
      "source": [
        "list2 = list(range(1,11))\n",
        "list2"
      ],
      "execution_count": 0,
      "outputs": [
        {
          "output_type": "execute_result",
          "data": {
            "text/plain": [
              "[1, 2, 3, 4, 5, 6, 7, 8, 9, 10]"
            ]
          },
          "metadata": {
            "tags": []
          },
          "execution_count": 21
        }
      ]
    },
    {
      "cell_type": "code",
      "metadata": {
        "id": "8Xq3gmP47vd1",
        "colab_type": "code",
        "outputId": "5e6c4c23-52d3-497d-eefa-79107f0dff8e",
        "colab": {
          "base_uri": "https://localhost:8080/",
          "height": 34
        }
      },
      "source": [
        "arr2 = np.arange(1,11)#other way of creating an array in numpy\n",
        "arr2"
      ],
      "execution_count": 0,
      "outputs": [
        {
          "output_type": "execute_result",
          "data": {
            "text/plain": [
              "array([ 1,  2,  3,  4,  5,  6,  7,  8,  9, 10])"
            ]
          },
          "metadata": {
            "tags": []
          },
          "execution_count": 22
        }
      ]
    },
    {
      "cell_type": "code",
      "metadata": {
        "id": "9ff_DYQ370Aq",
        "colab_type": "code",
        "colab": {}
      },
      "source": [
        "##differences between python list and numpy array\n",
        "-Numpy uses less memory\n",
        "-numpy is fast\n",
        "-numpy arrays are most convinient"
      ],
      "execution_count": 0,
      "outputs": []
    },
    {
      "cell_type": "code",
      "metadata": {
        "id": "yjrM6Q0L73Ob",
        "colab_type": "code",
        "outputId": "cc82efc5-b2d0-4aee-cf1f-f98c4286ee38",
        "colab": {
          "base_uri": "https://localhost:8080/",
          "height": 34
        }
      },
      "source": [
        "import sys#sys is module which contains function get sizeof\n",
        "size = 1000\n",
        "list1 = list(range(size))\n",
        "print(sys.getsizeof(list1[0]))"
      ],
      "execution_count": 0,
      "outputs": [
        {
          "output_type": "stream",
          "text": [
            "24\n"
          ],
          "name": "stdout"
        }
      ]
    },
    {
      "cell_type": "code",
      "metadata": {
        "id": "apTf9Zg-75B3",
        "colab_type": "code",
        "outputId": "7232457e-04e6-464b-a637-56e1e9ea73ee",
        "colab": {
          "base_uri": "https://localhost:8080/",
          "height": 34
        }
      },
      "source": [
        "print(sys.getsizeof(list1[0])*size)"
      ],
      "execution_count": 0,
      "outputs": [
        {
          "output_type": "stream",
          "text": [
            "24000\n"
          ],
          "name": "stdout"
        }
      ]
    },
    {
      "cell_type": "code",
      "metadata": {
        "id": "3gCQ_1KX79XU",
        "colab_type": "code",
        "outputId": "1c76ca15-9eaa-4204-bf3a-368d4b7c24b2",
        "colab": {
          "base_uri": "https://localhost:8080/",
          "height": 52
        }
      },
      "source": [
        "size = 1000#less memory\n",
        "list1 = list(range(size))\n",
        "print(sys.getsizeof(list1[0])*size)\n",
        "arr1 = np.arange(1000)\n",
        "print(arr1.itemsize * arr1.size)"
      ],
      "execution_count": 0,
      "outputs": [
        {
          "output_type": "stream",
          "text": [
            "24000\n",
            "8000\n"
          ],
          "name": "stdout"
        }
      ]
    },
    {
      "cell_type": "code",
      "metadata": {
        "id": "AXJrrglk7_ZF",
        "colab_type": "code",
        "outputId": "ab91507b-1bbe-4634-c32f-611d3a69dc69",
        "colab": {
          "base_uri": "https://localhost:8080/",
          "height": 238
        }
      },
      "source": [
        "import time\n",
        "size = 20000\n",
        "list1 = list(range(size))\n",
        "list2 = list(range(size))\n",
        "start = time.time()\n",
        "result = [x+y for x,y in zip(l1,l2)]\n",
        "print(\"timetaken for list:\",time.time()-start)\n",
        "arr1 = np.arange(size)\n",
        "arr2 = np.arange(size)\n",
        "start = time.time()\n",
        "result = arr1 + arr2\n",
        "print(\"timetaken for numpy:\",time.time()-start)"
      ],
      "execution_count": 0,
      "outputs": [
        {
          "output_type": "error",
          "ename": "NameError",
          "evalue": "ignored",
          "traceback": [
            "\u001b[0;31m---------------------------------------------------------------------------\u001b[0m",
            "\u001b[0;31mNameError\u001b[0m                                 Traceback (most recent call last)",
            "\u001b[0;32m<ipython-input-27-5d2692c303bb>\u001b[0m in \u001b[0;36m<module>\u001b[0;34m()\u001b[0m\n\u001b[1;32m      4\u001b[0m \u001b[0mlist2\u001b[0m \u001b[0;34m=\u001b[0m \u001b[0mlist\u001b[0m\u001b[0;34m(\u001b[0m\u001b[0mrange\u001b[0m\u001b[0;34m(\u001b[0m\u001b[0msize\u001b[0m\u001b[0;34m)\u001b[0m\u001b[0;34m)\u001b[0m\u001b[0;34m\u001b[0m\u001b[0;34m\u001b[0m\u001b[0m\n\u001b[1;32m      5\u001b[0m \u001b[0mstart\u001b[0m \u001b[0;34m=\u001b[0m \u001b[0mtime\u001b[0m\u001b[0;34m.\u001b[0m\u001b[0mtime\u001b[0m\u001b[0;34m(\u001b[0m\u001b[0;34m)\u001b[0m\u001b[0;34m\u001b[0m\u001b[0;34m\u001b[0m\u001b[0m\n\u001b[0;32m----> 6\u001b[0;31m \u001b[0mresult\u001b[0m \u001b[0;34m=\u001b[0m \u001b[0;34m[\u001b[0m\u001b[0mx\u001b[0m\u001b[0;34m+\u001b[0m\u001b[0my\u001b[0m \u001b[0;32mfor\u001b[0m \u001b[0mx\u001b[0m\u001b[0;34m,\u001b[0m\u001b[0my\u001b[0m \u001b[0;32min\u001b[0m \u001b[0mzip\u001b[0m\u001b[0;34m(\u001b[0m\u001b[0ml1\u001b[0m\u001b[0;34m,\u001b[0m\u001b[0ml2\u001b[0m\u001b[0;34m)\u001b[0m\u001b[0;34m]\u001b[0m\u001b[0;34m\u001b[0m\u001b[0;34m\u001b[0m\u001b[0m\n\u001b[0m\u001b[1;32m      7\u001b[0m \u001b[0mprint\u001b[0m\u001b[0;34m(\u001b[0m\u001b[0;34m\"timetaken for list:\"\u001b[0m\u001b[0;34m,\u001b[0m\u001b[0mtime\u001b[0m\u001b[0;34m.\u001b[0m\u001b[0mtime\u001b[0m\u001b[0;34m(\u001b[0m\u001b[0;34m)\u001b[0m\u001b[0;34m-\u001b[0m\u001b[0mstart\u001b[0m\u001b[0;34m)\u001b[0m\u001b[0;34m\u001b[0m\u001b[0;34m\u001b[0m\u001b[0m\n\u001b[1;32m      8\u001b[0m \u001b[0marr1\u001b[0m \u001b[0;34m=\u001b[0m \u001b[0mnp\u001b[0m\u001b[0;34m.\u001b[0m\u001b[0marange\u001b[0m\u001b[0;34m(\u001b[0m\u001b[0msize\u001b[0m\u001b[0;34m)\u001b[0m\u001b[0;34m\u001b[0m\u001b[0;34m\u001b[0m\u001b[0m\n",
            "\u001b[0;31mNameError\u001b[0m: name 'l1' is not defined"
          ]
        }
      ]
    },
    {
      "cell_type": "code",
      "metadata": {
        "id": "zzVlHdEt8DGE",
        "colab_type": "code",
        "outputId": "c0e3f564-3254-4523-aa18-2498f8e97221",
        "colab": {
          "base_uri": "https://localhost:8080/",
          "height": 34
        }
      },
      "source": [
        "l1 = [1,2,3,4,5]\n",
        "l2 = [10,13,15,56,25]\n",
        "result = [11,15,18,60,30]\n",
        "result"
      ],
      "execution_count": 0,
      "outputs": [
        {
          "output_type": "execute_result",
          "data": {
            "text/plain": [
              "[11, 15, 18, 60, 30]"
            ]
          },
          "metadata": {
            "tags": []
          },
          "execution_count": 28
        }
      ]
    },
    {
      "cell_type": "code",
      "metadata": {
        "id": "V2Aj7ItG8Miz",
        "colab_type": "code",
        "outputId": "21d058bf-167e-416f-e724-1a7d39ab33f4",
        "colab": {
          "base_uri": "https://localhost:8080/",
          "height": 34
        }
      },
      "source": [
        "a1 = np.array(l1)\n",
        "a2 = np.array(l2)\n",
        "result = a1 +a2 \n",
        "result"
      ],
      "execution_count": 0,
      "outputs": [
        {
          "output_type": "execute_result",
          "data": {
            "text/plain": [
              "array([11, 15, 18, 60, 30])"
            ]
          },
          "metadata": {
            "tags": []
          },
          "execution_count": 29
        }
      ]
    },
    {
      "cell_type": "code",
      "metadata": {
        "id": "Qj58fRuM8Ojj",
        "colab_type": "code",
        "colab": {}
      },
      "source": [
        ""
      ],
      "execution_count": 0,
      "outputs": []
    }
  ]
}