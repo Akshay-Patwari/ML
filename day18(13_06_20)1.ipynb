{
  "nbformat": 4,
  "nbformat_minor": 0,
  "metadata": {
    "colab": {
      "name": "day18(13-06-20)1.ipynb",
      "provenance": [],
      "authorship_tag": "ABX9TyNsaZ0ysIMtDoYEWjXDaseg",
      "include_colab_link": true
    },
    "kernelspec": {
      "name": "python3",
      "display_name": "Python 3"
    }
  },
  "cells": [
    {
      "cell_type": "markdown",
      "metadata": {
        "id": "view-in-github",
        "colab_type": "text"
      },
      "source": [
        "<a href=\"https://colab.research.google.com/github/akshaypatwari47/ML/blob/master/day18(13_06_20)1.ipynb\" target=\"_parent\"><img src=\"https://colab.research.google.com/assets/colab-badge.svg\" alt=\"Open In Colab\"/></a>"
      ]
    },
    {
      "cell_type": "code",
      "metadata": {
        "id": "knj6q6adoKog",
        "colab_type": "code",
        "colab": {}
      },
      "source": [
        "#Input:\n",
        "#user_id = [1,1,2,3,3,4,4,4,5,5]\n",
        "#ancestry=[\"England\",\"Ireland\",\"France\",\"Germany\",\"Poland\",\"England\",\"France\",\"Germany\",\"France\",\"Germany\"]\n",
        "\n",
        "#If my required countries are France and Germany\n",
        "#required = ['France', 'Germany']\n",
        "\n",
        "#Output:\n",
        "#4\n",
        "#5"
      ],
      "execution_count": 0,
      "outputs": []
    },
    {
      "cell_type": "code",
      "metadata": {
        "id": "6GW495vqoik8",
        "colab_type": "code",
        "colab": {}
      },
      "source": [
        "user_id = [1,1,2,3,3,4,4,4,5,5]\n",
        "user=list(set(user_id))\n",
        "ancestry=[\"England\",\"Ireland\",\"France\",\"Germany\",\"Poland\",\"England\",\"France\",\"Germany\",\"France\",\"Germany\"]\n",
        "dict1 = {}\n",
        "for i in user:\n",
        "    dict1[i] = [ancestry[j] for j in range(len(user_id)) if i==user_id[j]]"
      ],
      "execution_count": 0,
      "outputs": []
    },
    {
      "cell_type": "code",
      "metadata": {
        "id": "us00cptBoomP",
        "colab_type": "code",
        "colab": {
          "base_uri": "https://localhost:8080/",
          "height": 51
        },
        "outputId": "371e46ee-c1f0-4053-fe97-6b2d2bc9968d"
      },
      "source": [
        "required = ['France','Germany']\n",
        "for i in dict1.values():\n",
        "    flag = 0\n",
        "    for j in required:\n",
        "        if j in i:\n",
        "            flag +=1\n",
        "    if flag == len(required):\n",
        "        for key,values in dict1.items():\n",
        "            if i == values:\n",
        "                print(key)"
      ],
      "execution_count": 3,
      "outputs": [
        {
          "output_type": "stream",
          "text": [
            "4\n",
            "5\n"
          ],
          "name": "stdout"
        }
      ]
    },
    {
      "cell_type": "code",
      "metadata": {
        "id": "eAVo2BVBorLP",
        "colab_type": "code",
        "colab": {}
      },
      "source": [
        ""
      ],
      "execution_count": 0,
      "outputs": []
    }
  ]
}