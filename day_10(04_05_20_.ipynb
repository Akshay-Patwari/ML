{
  "nbformat": 4,
  "nbformat_minor": 0,
  "metadata": {
    "colab": {
      "name": "day 10(04-05-20_.ipynb",
      "provenance": [],
      "authorship_tag": "ABX9TyM+JnV+SuI3iekyNyeFMu9m",
      "include_colab_link": true
    },
    "kernelspec": {
      "name": "python3",
      "display_name": "Python 3"
    }
  },
  "cells": [
    {
      "cell_type": "markdown",
      "metadata": {
        "id": "view-in-github",
        "colab_type": "text"
      },
      "source": [
        "<a href=\"https://colab.research.google.com/github/akshaypatwari47/ML/blob/master/day_10(04_05_20_.ipynb\" target=\"_parent\"><img src=\"https://colab.research.google.com/assets/colab-badge.svg\" alt=\"Open In Colab\"/></a>"
      ]
    },
    {
      "cell_type": "code",
      "metadata": {
        "id": "cL4D5ZZU1WDu",
        "colab_type": "code",
        "colab": {}
      },
      "source": [
        "###Nine lives:\n",
        "import random\n",
        "lives = 9\n",
        "heart_symbol = '\\u2764'\n",
        "words = [\"hello\",\"pizza\",\"apple\",\"mouse\",\"light\"]\n",
        "secret_word = random.choice(words)\n",
        "clue = list('?????')\n",
        "guessed_word_correctly = False"
      ],
      "execution_count": 0,
      "outputs": []
    },
    {
      "cell_type": "code",
      "metadata": {
        "id": "6KYqfqum1sca",
        "colab_type": "code",
        "colab": {}
      },
      "source": [
        "def update_clue(guessed_letter,secret_word,clue):\n",
        "  index = 0\n",
        "  while index < len(secret_word):\n",
        "    if guessed_letter == secret_word[index]:\n",
        "      clue[index] = guessed_letter\n",
        "    index += 1"
      ],
      "execution_count": 0,
      "outputs": []
    },
    {
      "cell_type": "code",
      "metadata": {
        "id": "jBxI0eMj1v9F",
        "colab_type": "code",
        "outputId": "4ae1b289-1948-425b-8811-39e65dbb3116",
        "colab": {
          "base_uri": "https://localhost:8080/",
          "height": 381
        }
      },
      "source": [
        "while lives>0:\n",
        "  print(clue)\n",
        "  print(\"lives left:\",heart_symbol*lives)\n",
        "  guess = input(\"Enter a letter or whole word :\")\n",
        "  if guess == secret_word:\n",
        "    guessed_word_correctly = True\n",
        "    break\n",
        "  elif guess in secret_word:\n",
        "    update_clue(guess,secret_word,clue)\n",
        "  else:\n",
        "    print(\"Incorrect guess!!You lost a life\")\n",
        "    lives -= 1\n",
        "if guessed_word_correctly == True:\n",
        "  print(\"you guessed the word correctly!Secret_word is:\",secret_word)\n",
        "else:\n",
        "  print(\"your guess is wrong.Secret_word is:\",secret_word)"
      ],
      "execution_count": 0,
      "outputs": [
        {
          "output_type": "stream",
          "text": [
            "['?', '?', '?', '?', '?']\n",
            "lives left: ❤❤❤❤❤❤\n",
            "Enter a letter or whole word :apple\n",
            "Incorrect guess!!You lost a life\n",
            "['?', '?', '?', '?', '?']\n",
            "lives left: ❤❤❤❤❤\n",
            "Enter a letter or whole word :hello\n",
            "Incorrect guess!!You lost a life\n",
            "['?', '?', '?', '?', '?']\n",
            "lives left: ❤❤❤❤\n",
            "Enter a letter or whole word :pizza\n",
            "Incorrect guess!!You lost a life\n",
            "['?', '?', '?', '?', '?']\n",
            "lives left: ❤❤❤\n",
            "Enter a letter or whole word :mouse\n",
            "Incorrect guess!!You lost a life\n",
            "['?', '?', '?', '?', '?']\n",
            "lives left: ❤❤\n",
            "Enter a letter or whole word :light\n",
            "you guessed the word correctly!Secret_word is: light\n"
          ],
          "name": "stdout"
        }
      ]
    },
    {
      "cell_type": "markdown",
      "metadata": {
        "id": "Q7vV0qlr2b9A",
        "colab_type": "text"
      },
      "source": [
        "#Numpy Package"
      ]
    },
    {
      "cell_type": "code",
      "metadata": {
        "id": "A47rHypG2d7z",
        "colab_type": "code",
        "colab": {}
      },
      "source": [
        "import numpy as np##Ususally np is considered as alias word"
      ],
      "execution_count": 0,
      "outputs": []
    },
    {
      "cell_type": "code",
      "metadata": {
        "id": "Joz_Wflz2f90",
        "colab_type": "code",
        "colab": {}
      },
      "source": [
        "#Differences between numpy array and List:previous session"
      ],
      "execution_count": 0,
      "outputs": []
    },
    {
      "cell_type": "code",
      "metadata": {
        "id": "RDhrZb7C2iFz",
        "colab_type": "code",
        "outputId": "5a034a47-e1c2-4470-cdc6-ea34023ca985",
        "colab": {
          "base_uri": "https://localhost:8080/",
          "height": 35
        }
      },
      "source": [
        "# 1-dimensional array\n",
        "a = np.array([1,2,3,4,5])\n",
        "a"
      ],
      "execution_count": 0,
      "outputs": [
        {
          "output_type": "execute_result",
          "data": {
            "text/plain": [
              "array([1, 2, 3, 4, 5])"
            ]
          },
          "metadata": {
            "tags": []
          },
          "execution_count": 7
        }
      ]
    },
    {
      "cell_type": "code",
      "metadata": {
        "id": "u6ai6XET2jzD",
        "colab_type": "code",
        "outputId": "dcd76761-1541-4e06-c3dd-972f77699039",
        "colab": {
          "base_uri": "https://localhost:8080/",
          "height": 72
        }
      },
      "source": [
        "a1 = np.array([[1,2,3],[4,5,6],[7,8,9]])\n",
        "a1"
      ],
      "execution_count": 0,
      "outputs": [
        {
          "output_type": "execute_result",
          "data": {
            "text/plain": [
              "array([[1, 2, 3],\n",
              "       [4, 5, 6],\n",
              "       [7, 8, 9]])"
            ]
          },
          "metadata": {
            "tags": []
          },
          "execution_count": 8
        }
      ]
    },
    {
      "cell_type": "code",
      "metadata": {
        "id": "lgZZBSC12mtT",
        "colab_type": "code",
        "outputId": "2b681ee6-46f2-43c1-fde3-7ada101d2a13",
        "colab": {
          "base_uri": "https://localhost:8080/",
          "height": 35
        }
      },
      "source": [
        "print(a1.ndim)#gives dimension"
      ],
      "execution_count": 0,
      "outputs": [
        {
          "output_type": "stream",
          "text": [
            "2\n"
          ],
          "name": "stdout"
        }
      ]
    },
    {
      "cell_type": "code",
      "metadata": {
        "id": "IwqwH31X2pMk",
        "colab_type": "code",
        "outputId": "949ba7b5-d65f-4ea0-d8ae-de267bfe41f7",
        "colab": {
          "base_uri": "https://localhost:8080/",
          "height": 35
        }
      },
      "source": [
        "a1.shape#for num of rows and columns\n"
      ],
      "execution_count": 0,
      "outputs": [
        {
          "output_type": "execute_result",
          "data": {
            "text/plain": [
              "(3, 3)"
            ]
          },
          "metadata": {
            "tags": []
          },
          "execution_count": 10
        }
      ]
    },
    {
      "cell_type": "code",
      "metadata": {
        "id": "Nn80mL7T2rfD",
        "colab_type": "code",
        "outputId": "4b90e11a-4e9d-4f08-e497-6d68287c2e1c",
        "colab": {
          "base_uri": "https://localhost:8080/",
          "height": 35
        }
      },
      "source": [
        "a.shape"
      ],
      "execution_count": 0,
      "outputs": [
        {
          "output_type": "execute_result",
          "data": {
            "text/plain": [
              "(5,)"
            ]
          },
          "metadata": {
            "tags": []
          },
          "execution_count": 11
        }
      ]
    },
    {
      "cell_type": "code",
      "metadata": {
        "id": "1WjMlou12u_z",
        "colab_type": "code",
        "outputId": "53f96074-ba20-419a-d478-d9c3461af9e7",
        "colab": {
          "base_uri": "https://localhost:8080/",
          "height": 72
        }
      },
      "source": [
        "a2 = np.array([[1,2,3],[4,5,6],[7,8,9],[10,11,12]])\n",
        "print(a2.shape)\n",
        "print(a2.shape[0])#rows\n",
        "print(a2.shape[1])#columns"
      ],
      "execution_count": 0,
      "outputs": [
        {
          "output_type": "stream",
          "text": [
            "(4, 3)\n",
            "4\n",
            "3\n"
          ],
          "name": "stdout"
        }
      ]
    },
    {
      "cell_type": "code",
      "metadata": {
        "id": "GfBYPfMw2w2z",
        "colab_type": "code",
        "colab": {}
      },
      "source": [
        "a3 = np.array([1,2,3,4,5])#1d and 2d array\n",
        "a4 = np.array([[1,2,3,4],[4,5,6,7],[7,8,9,10]])"
      ],
      "execution_count": 0,
      "outputs": []
    },
    {
      "cell_type": "code",
      "metadata": {
        "id": "ULd_chsz2y2j",
        "colab_type": "code",
        "colab": {}
      },
      "source": [
        "#inserting elements into the array dynamically\n",
        "a5 = np.array([])# or np.array([],dtype = \"int32\") to make the given input as integer"
      ],
      "execution_count": 0,
      "outputs": []
    },
    {
      "cell_type": "code",
      "metadata": {
        "id": "N9-2hOHx21SF",
        "colab_type": "code",
        "outputId": "90c52fec-d8eb-49aa-9f7f-bab9a2081bcc",
        "colab": {
          "base_uri": "https://localhost:8080/",
          "height": 72
        }
      },
      "source": [
        "a5 = np.append(a5,int(input()))#a5 at first is necessary \n",
        "print(a5)\n",
        "a5.dtype"
      ],
      "execution_count": 0,
      "outputs": [
        {
          "output_type": "stream",
          "text": [
            "15\n",
            "[15.]\n"
          ],
          "name": "stdout"
        },
        {
          "output_type": "execute_result",
          "data": {
            "text/plain": [
              "dtype('float64')"
            ]
          },
          "metadata": {
            "tags": []
          },
          "execution_count": 15
        }
      ]
    },
    {
      "cell_type": "code",
      "metadata": {
        "id": "F871cODb23G0",
        "colab_type": "code",
        "outputId": "da261e90-c4f9-4eda-f0c8-809dd52c457f",
        "colab": {
          "base_uri": "https://localhost:8080/",
          "height": 35
        }
      },
      "source": [
        "a3 = np.append(a3,[23,34,56,67,89])\n",
        "a3"
      ],
      "execution_count": 0,
      "outputs": [
        {
          "output_type": "execute_result",
          "data": {
            "text/plain": [
              "array([ 1,  2,  3,  4,  5, 23, 34, 56, 67, 89])"
            ]
          },
          "metadata": {
            "tags": []
          },
          "execution_count": 16
        }
      ]
    },
    {
      "cell_type": "code",
      "metadata": {
        "id": "AODmBasl29SD",
        "colab_type": "code",
        "outputId": "6d36d855-b43d-4aa6-a0b3-de78b1aa34f8",
        "colab": {
          "base_uri": "https://localhost:8080/",
          "height": 90
        }
      },
      "source": [
        "a2"
      ],
      "execution_count": 0,
      "outputs": [
        {
          "output_type": "execute_result",
          "data": {
            "text/plain": [
              "array([[ 1,  2,  3],\n",
              "       [ 4,  5,  6],\n",
              "       [ 7,  8,  9],\n",
              "       [10, 11, 12]])"
            ]
          },
          "metadata": {
            "tags": []
          },
          "execution_count": 22
        }
      ]
    },
    {
      "cell_type": "code",
      "metadata": {
        "id": "vONPlY8T2_Qz",
        "colab_type": "code",
        "colab": {}
      },
      "source": [
        "##Slicing:"
      ],
      "execution_count": 0,
      "outputs": []
    },
    {
      "cell_type": "code",
      "metadata": {
        "id": "JjTGnmNP3BCC",
        "colab_type": "code",
        "outputId": "acb422f6-4303-4532-fc15-206d3cd49e77",
        "colab": {
          "base_uri": "https://localhost:8080/",
          "height": 167
        }
      },
      "source": [
        "print(a5[2])"
      ],
      "execution_count": 0,
      "outputs": [
        {
          "output_type": "error",
          "ename": "IndexError",
          "evalue": "ignored",
          "traceback": [
            "\u001b[0;31m---------------------------------------------------------------------------\u001b[0m",
            "\u001b[0;31mIndexError\u001b[0m                                Traceback (most recent call last)",
            "\u001b[0;32m<ipython-input-23-f2d66f92e79a>\u001b[0m in \u001b[0;36m<module>\u001b[0;34m()\u001b[0m\n\u001b[0;32m----> 1\u001b[0;31m \u001b[0mprint\u001b[0m\u001b[0;34m(\u001b[0m\u001b[0ma5\u001b[0m\u001b[0;34m[\u001b[0m\u001b[0;36m2\u001b[0m\u001b[0;34m]\u001b[0m\u001b[0;34m)\u001b[0m\u001b[0;34m\u001b[0m\u001b[0;34m\u001b[0m\u001b[0m\n\u001b[0m",
            "\u001b[0;31mIndexError\u001b[0m: index 2 is out of bounds for axis 0 with size 1"
          ]
        }
      ]
    },
    {
      "cell_type": "code",
      "metadata": {
        "id": "kOZSYki-3Cfi",
        "colab_type": "code",
        "outputId": "f2b307ee-cc1d-4883-cfd7-bed0dd138a63",
        "colab": {
          "base_uri": "https://localhost:8080/",
          "height": 34
        }
      },
      "source": [
        "print(a2[1,1])"
      ],
      "execution_count": 0,
      "outputs": [
        {
          "output_type": "stream",
          "text": [
            "5\n"
          ],
          "name": "stdout"
        }
      ]
    },
    {
      "cell_type": "code",
      "metadata": {
        "id": "qnipo2Zo3Nii",
        "colab_type": "code",
        "outputId": "58eb89c7-7628-4ee6-9b0e-9422a2860104",
        "colab": {
          "base_uri": "https://localhost:8080/",
          "height": 54
        }
      },
      "source": [
        "print(a2[2:,:])"
      ],
      "execution_count": 0,
      "outputs": [
        {
          "output_type": "stream",
          "text": [
            "[[ 7  8  9]\n",
            " [10 11 12]]\n"
          ],
          "name": "stdout"
        }
      ]
    },
    {
      "cell_type": "code",
      "metadata": {
        "id": "00vq0UCe3P8C",
        "colab_type": "code",
        "outputId": "7af0d9cd-3c08-4ce2-a113-1bdfbd949f15",
        "colab": {
          "base_uri": "https://localhost:8080/",
          "height": 54
        }
      },
      "source": [
        "print(a2[2:,0:2])#0,1 columns are considered"
      ],
      "execution_count": 0,
      "outputs": [
        {
          "output_type": "stream",
          "text": [
            "[[ 7  8]\n",
            " [10 11]]\n"
          ],
          "name": "stdout"
        }
      ]
    },
    {
      "cell_type": "code",
      "metadata": {
        "id": "yccXYN7x3Sji",
        "colab_type": "code",
        "outputId": "e667f43e-3eec-4001-edc3-ed082ddc9c5f",
        "colab": {
          "base_uri": "https://localhost:8080/",
          "height": 35
        }
      },
      "source": [
        "print(a2[0,0:2])"
      ],
      "execution_count": 0,
      "outputs": [
        {
          "output_type": "stream",
          "text": [
            "[1 2]\n"
          ],
          "name": "stdout"
        }
      ]
    },
    {
      "cell_type": "code",
      "metadata": {
        "id": "JsY69WlH3USD",
        "colab_type": "code",
        "colab": {}
      },
      "source": [
        "###Iterate through array:"
      ],
      "execution_count": 0,
      "outputs": []
    },
    {
      "cell_type": "code",
      "metadata": {
        "id": "bR7lBt7j3WjT",
        "colab_type": "code",
        "outputId": "2e173696-a843-49df-9272-6c8d23478ee0",
        "colab": {
          "base_uri": "https://localhost:8080/",
          "height": 90
        }
      },
      "source": [
        "for row in a2:\n",
        "  print(row)"
      ],
      "execution_count": 0,
      "outputs": [
        {
          "output_type": "stream",
          "text": [
            "[1 2 3]\n",
            "[4 5 6]\n",
            "[7 8 9]\n",
            "[10 11 12]\n"
          ],
          "name": "stdout"
        }
      ]
    },
    {
      "cell_type": "code",
      "metadata": {
        "id": "ZJuTxrbz3YjS",
        "colab_type": "code",
        "outputId": "317dac29-39ad-4df2-9197-e08de518316c",
        "colab": {
          "base_uri": "https://localhost:8080/",
          "height": 90
        }
      },
      "source": [
        "list1 = [1,2,3,4]\n",
        "for i in list1:\n",
        "  print(i)"
      ],
      "execution_count": 0,
      "outputs": [
        {
          "output_type": "stream",
          "text": [
            "1\n",
            "2\n",
            "3\n",
            "4\n"
          ],
          "name": "stdout"
        }
      ]
    },
    {
      "cell_type": "code",
      "metadata": {
        "id": "3xLsL04l3apT",
        "colab_type": "code",
        "outputId": "17d6d95a-3157-4809-dd70-52eaadef7291",
        "colab": {
          "base_uri": "https://localhost:8080/",
          "height": 52
        }
      },
      "source": [
        "list1 = [[1,2],[3,4]]\n",
        "for i in list1:\n",
        "  print(i)\n"
      ],
      "execution_count": 0,
      "outputs": [
        {
          "output_type": "stream",
          "text": [
            "[1, 2]\n",
            "[3, 4]\n"
          ],
          "name": "stdout"
        }
      ]
    },
    {
      "cell_type": "code",
      "metadata": {
        "id": "yKQtb3Uy3fIC",
        "colab_type": "code",
        "outputId": "4c0d7276-521c-4a59-cadb-4aa2b1922f7a",
        "colab": {
          "base_uri": "https://localhost:8080/",
          "height": 34
        }
      },
      "source": [
        "for ele in a2.flat:#a2.flat gives all elements regardless of shape\n",
        "  print(ele,end=\" \")"
      ],
      "execution_count": 0,
      "outputs": [
        {
          "output_type": "stream",
          "text": [
            "1 2 3 4 5 6 7 8 9 10 11 12 "
          ],
          "name": "stdout"
        }
      ]
    },
    {
      "cell_type": "code",
      "metadata": {
        "id": "2QgUtDKr3mKS",
        "colab_type": "code",
        "outputId": "61620358-7f5a-4e70-a284-2e9df47ef6f5",
        "colab": {
          "base_uri": "https://localhost:8080/",
          "height": 34
        }
      },
      "source": [
        "np.array(a2.flat)"
      ],
      "execution_count": 0,
      "outputs": [
        {
          "output_type": "execute_result",
          "data": {
            "text/plain": [
              "array([ 1,  2,  3,  4,  5,  6,  7,  8,  9, 10, 11, 12])"
            ]
          },
          "metadata": {
            "tags": []
          },
          "execution_count": 34
        }
      ]
    },
    {
      "cell_type": "code",
      "metadata": {
        "id": "d0UlxqX_3oGE",
        "colab_type": "code",
        "colab": {}
      },
      "source": [
        "#Indexing with Boolean arrays"
      ],
      "execution_count": 0,
      "outputs": []
    },
    {
      "cell_type": "code",
      "metadata": {
        "id": "gF2PM9bf3qbh",
        "colab_type": "code",
        "outputId": "2f5af856-5e4d-4a8c-8f20-c58ce594a9e7",
        "colab": {
          "base_uri": "https://localhost:8080/",
          "height": 54
        }
      },
      "source": [
        "arr1 = np.arange(1,21)\n",
        "arr1"
      ],
      "execution_count": 0,
      "outputs": [
        {
          "output_type": "execute_result",
          "data": {
            "text/plain": [
              "array([ 1,  2,  3,  4,  5,  6,  7,  8,  9, 10, 11, 12, 13, 14, 15, 16, 17,\n",
              "       18, 19, 20])"
            ]
          },
          "metadata": {
            "tags": []
          },
          "execution_count": 36
        }
      ]
    },
    {
      "cell_type": "code",
      "metadata": {
        "id": "6PR-9c-F3sQj",
        "colab_type": "code",
        "outputId": "055682cd-8581-415d-e8da-4db8844c0721",
        "colab": {
          "base_uri": "https://localhost:8080/",
          "height": 108
        }
      },
      "source": [
        "arr1 = np.arange(1,21).reshape(5,4)\n",
        "arr1"
      ],
      "execution_count": 0,
      "outputs": [
        {
          "output_type": "execute_result",
          "data": {
            "text/plain": [
              "array([[ 1,  2,  3,  4],\n",
              "       [ 5,  6,  7,  8],\n",
              "       [ 9, 10, 11, 12],\n",
              "       [13, 14, 15, 16],\n",
              "       [17, 18, 19, 20]])"
            ]
          },
          "metadata": {
            "tags": []
          },
          "execution_count": 37
        }
      ]
    },
    {
      "cell_type": "code",
      "metadata": {
        "id": "h4X22MgK3uaB",
        "colab_type": "code",
        "outputId": "0efe6303-5dea-43c3-8d1e-daa36be4efed",
        "colab": {
          "base_uri": "https://localhost:8080/",
          "height": 108
        }
      },
      "source": [
        "result = (arr1 % 2 == 0)#to extract even numbers\n",
        "result"
      ],
      "execution_count": 0,
      "outputs": [
        {
          "output_type": "execute_result",
          "data": {
            "text/plain": [
              "array([[False,  True, False,  True],\n",
              "       [False,  True, False,  True],\n",
              "       [False,  True, False,  True],\n",
              "       [False,  True, False,  True],\n",
              "       [False,  True, False,  True]])"
            ]
          },
          "metadata": {
            "tags": []
          },
          "execution_count": 38
        }
      ]
    },
    {
      "cell_type": "code",
      "metadata": {
        "id": "Mw85UYPT3wCR",
        "colab_type": "code",
        "outputId": "2aa20fda-b912-446c-be3c-eb708f9eff5b",
        "colab": {
          "base_uri": "https://localhost:8080/",
          "height": 35
        }
      },
      "source": [
        "arr1 [result]#boolean to normal array to get even numbers"
      ],
      "execution_count": 0,
      "outputs": [
        {
          "output_type": "execute_result",
          "data": {
            "text/plain": [
              "array([ 2,  4,  6,  8, 10, 12, 14, 16, 18, 20])"
            ]
          },
          "metadata": {
            "tags": []
          },
          "execution_count": 39
        }
      ]
    },
    {
      "cell_type": "code",
      "metadata": {
        "id": "bGjBTaeW3yHC",
        "colab_type": "code",
        "colab": {}
      },
      "source": [
        "#Appending arrays"
      ],
      "execution_count": 0,
      "outputs": []
    },
    {
      "cell_type": "code",
      "metadata": {
        "id": "fyP0trr-3z5S",
        "colab_type": "code",
        "outputId": "7001fb3f-8c57-4ae5-bec7-08e91f3a7a3a",
        "colab": {
          "base_uri": "https://localhost:8080/",
          "height": 126
        }
      },
      "source": [
        "arr1 = np.arange(1,10).reshape(3,3)\n",
        "arr2 = np.arange(11,20).reshape(3,3)\n",
        "print(np.vstack((arr1,arr2)))#vertical stacking           it accepts only one argument   so tuple is given"
      ],
      "execution_count": 0,
      "outputs": [
        {
          "output_type": "stream",
          "text": [
            "[[ 1  2  3]\n",
            " [ 4  5  6]\n",
            " [ 7  8  9]\n",
            " [11 12 13]\n",
            " [14 15 16]\n",
            " [17 18 19]]\n"
          ],
          "name": "stdout"
        }
      ]
    },
    {
      "cell_type": "code",
      "metadata": {
        "id": "EStEN1mo31-B",
        "colab_type": "code",
        "outputId": "90e5f8f8-2249-4bf1-da44-45ed4b109e00",
        "colab": {
          "base_uri": "https://localhost:8080/",
          "height": 72
        }
      },
      "source": [
        "print(np.hstack((arr1,arr2)))#horizontal stacking                          in both sizes of arrays must be matched"
      ],
      "execution_count": 0,
      "outputs": [
        {
          "output_type": "stream",
          "text": [
            "[[ 1  2  3 11 12 13]\n",
            " [ 4  5  6 14 15 16]\n",
            " [ 7  8  9 17 18 19]]\n"
          ],
          "name": "stdout"
        }
      ]
    },
    {
      "cell_type": "code",
      "metadata": {
        "id": "oewJdl1l34FR",
        "colab_type": "code",
        "outputId": "6b332c22-cd52-4e0c-a57a-ace51b046ddf",
        "colab": {
          "base_uri": "https://localhost:8080/",
          "height": 244
        }
      },
      "source": [
        "#Attributes:\n",
        "-size\n",
        "-itemsize\n",
        "-dtype\n",
        "-ndim\n",
        "-shape"
      ],
      "execution_count": 0,
      "outputs": [
        {
          "output_type": "error",
          "ename": "NameError",
          "evalue": "ignored",
          "traceback": [
            "\u001b[0;31m---------------------------------------------------------------------------\u001b[0m",
            "\u001b[0;31mNameError\u001b[0m                                 Traceback (most recent call last)",
            "\u001b[0;32m<ipython-input-43-28267882c20e>\u001b[0m in \u001b[0;36m<module>\u001b[0;34m()\u001b[0m\n\u001b[1;32m      1\u001b[0m \u001b[0;31m#Attributes:\u001b[0m\u001b[0;34m\u001b[0m\u001b[0;34m\u001b[0m\u001b[0;34m\u001b[0m\u001b[0m\n\u001b[0;32m----> 2\u001b[0;31m \u001b[0;34m-\u001b[0m\u001b[0msize\u001b[0m\u001b[0;34m\u001b[0m\u001b[0;34m\u001b[0m\u001b[0m\n\u001b[0m\u001b[1;32m      3\u001b[0m \u001b[0;34m-\u001b[0m\u001b[0mitemsize\u001b[0m\u001b[0;34m\u001b[0m\u001b[0;34m\u001b[0m\u001b[0m\n\u001b[1;32m      4\u001b[0m \u001b[0;34m-\u001b[0m\u001b[0mdtype\u001b[0m\u001b[0;34m\u001b[0m\u001b[0;34m\u001b[0m\u001b[0m\n\u001b[1;32m      5\u001b[0m \u001b[0;34m-\u001b[0m\u001b[0mndim\u001b[0m\u001b[0;34m\u001b[0m\u001b[0;34m\u001b[0m\u001b[0m\n",
            "\u001b[0;31mNameError\u001b[0m: name 'size' is not defined"
          ]
        }
      ]
    },
    {
      "cell_type": "code",
      "metadata": {
        "id": "o4q3YyNC36KR",
        "colab_type": "code",
        "outputId": "fac33413-68f6-4d5d-cb45-2fed169fc357",
        "colab": {
          "base_uri": "https://localhost:8080/",
          "height": 52
        }
      },
      "source": [
        "arr = np.arange(1,11).reshape(2,5)\n",
        "arr"
      ],
      "execution_count": 0,
      "outputs": [
        {
          "output_type": "execute_result",
          "data": {
            "text/plain": [
              "array([[ 1,  2,  3,  4,  5],\n",
              "       [ 6,  7,  8,  9, 10]])"
            ]
          },
          "metadata": {
            "tags": []
          },
          "execution_count": 44
        }
      ]
    },
    {
      "cell_type": "code",
      "metadata": {
        "id": "GjcKZypf39FR",
        "colab_type": "code",
        "outputId": "07374c40-8b7e-494f-ccd1-23527e645980",
        "colab": {
          "base_uri": "https://localhost:8080/",
          "height": 105
        }
      },
      "source": [
        "print(arr.size)\n",
        "print(arr.itemsize)\n",
        "print(arr.dtype)\n",
        "print(arr.ndim)\n",
        "print(arr.shape)"
      ],
      "execution_count": 0,
      "outputs": [
        {
          "output_type": "stream",
          "text": [
            "10\n",
            "8\n",
            "int64\n",
            "2\n",
            "(2, 5)\n"
          ],
          "name": "stdout"
        }
      ]
    },
    {
      "cell_type": "code",
      "metadata": {
        "id": "Tk2slAy03_kB",
        "colab_type": "code",
        "colab": {}
      },
      "source": [
        "#Functions:\n",
        "-zeros\n",
        "-ones\n",
        "-full\n",
        "-eye\n",
        "-linspace\n",
        "arange\n",
        "reshape\n",
        "ravel"
      ],
      "execution_count": 0,
      "outputs": []
    },
    {
      "cell_type": "code",
      "metadata": {
        "id": "mCXeE1js4B9l",
        "colab_type": "code",
        "outputId": "608aebf3-131c-4b3e-f860-2e9c4b5e79f8",
        "colab": {
          "base_uri": "https://localhost:8080/",
          "height": 52
        }
      },
      "source": [
        "z = np.zeros((2,3),dtype =\"int32\")#in output dtype should not come here\n",
        "z"
      ],
      "execution_count": 0,
      "outputs": [
        {
          "output_type": "execute_result",
          "data": {
            "text/plain": [
              "array([[0, 0, 0],\n",
              "       [0, 0, 0]], dtype=int32)"
            ]
          },
          "metadata": {
            "tags": []
          },
          "execution_count": 46
        }
      ]
    },
    {
      "cell_type": "code",
      "metadata": {
        "id": "Q2RUqwHh4Dex",
        "colab_type": "code",
        "outputId": "7f35d708-0c90-4907-be0f-bbc8d55f9ede",
        "colab": {
          "base_uri": "https://localhost:8080/",
          "height": 72
        }
      },
      "source": [
        "o = np.ones((3,3),dtype=\"int32\")\n",
        "print(o)"
      ],
      "execution_count": 0,
      "outputs": [
        {
          "output_type": "stream",
          "text": [
            "[[1 1 1]\n",
            " [1 1 1]\n",
            " [1 1 1]]\n"
          ],
          "name": "stdout"
        }
      ]
    },
    {
      "cell_type": "code",
      "metadata": {
        "id": "V_ayhqDE4FTC",
        "colab_type": "code",
        "outputId": "41bc3a51-1489-4831-8385-b099c0a04ab5",
        "colab": {
          "base_uri": "https://localhost:8080/",
          "height": 54
        }
      },
      "source": [
        "f = np.full((2,2),\"akshay\")\n",
        "print(f)"
      ],
      "execution_count": 0,
      "outputs": [
        {
          "output_type": "stream",
          "text": [
            "[['akshay' 'akshay']\n",
            " ['akshay' 'akshay']]\n"
          ],
          "name": "stdout"
        }
      ]
    },
    {
      "cell_type": "code",
      "metadata": {
        "id": "Hss1_QNk4HLh",
        "colab_type": "code",
        "outputId": "4c6c10bf-fdf1-45de-ba57-2f027a3ea85d",
        "colab": {
          "base_uri": "https://localhost:8080/",
          "height": 72
        }
      },
      "source": [
        "#eye\n",
        "e = np.eye(3,dtype=\"int32\")\n",
        "print(e)"
      ],
      "execution_count": 0,
      "outputs": [
        {
          "output_type": "stream",
          "text": [
            "[[1 0 0]\n",
            " [0 1 0]\n",
            " [0 0 1]]\n"
          ],
          "name": "stdout"
        }
      ]
    },
    {
      "cell_type": "code",
      "metadata": {
        "id": "XuH3HUOe4MYw",
        "colab_type": "code",
        "outputId": "74ca8434-a665-4184-831c-7b9a64e1d310",
        "colab": {
          "base_uri": "https://localhost:8080/",
          "height": 35
        }
      },
      "source": [
        "#linspace()-->linear spacing elements are returned\n",
        "l = np.linspace(1,10,5)\n",
        "print(l)"
      ],
      "execution_count": 0,
      "outputs": [
        {
          "output_type": "stream",
          "text": [
            "[ 1.    3.25  5.5   7.75 10.  ]\n"
          ],
          "name": "stdout"
        }
      ]
    },
    {
      "cell_type": "code",
      "metadata": {
        "id": "oj4A8zjt4SQw",
        "colab_type": "code",
        "outputId": "427e868a-199b-4a9c-dbb1-54f2cd02dd83",
        "colab": {
          "base_uri": "https://localhost:8080/",
          "height": 35
        }
      },
      "source": [
        "a = np.arange(1,13,2)#range(start,stop,step)\n",
        "a"
      ],
      "execution_count": 0,
      "outputs": [
        {
          "output_type": "execute_result",
          "data": {
            "text/plain": [
              "array([ 1,  3,  5,  7,  9, 11])"
            ]
          },
          "metadata": {
            "tags": []
          },
          "execution_count": 53
        }
      ]
    },
    {
      "cell_type": "code",
      "metadata": {
        "id": "G-2DGGNv4cEv",
        "colab_type": "code",
        "outputId": "dfc3a015-cd63-42dc-a99f-d2f3234579ed",
        "colab": {
          "base_uri": "https://localhost:8080/",
          "height": 35
        }
      },
      "source": [
        "a.shape"
      ],
      "execution_count": 0,
      "outputs": [
        {
          "output_type": "execute_result",
          "data": {
            "text/plain": [
              "(6,)"
            ]
          },
          "metadata": {
            "tags": []
          },
          "execution_count": 54
        }
      ]
    },
    {
      "cell_type": "code",
      "metadata": {
        "id": "ia-ydYFD4dqR",
        "colab_type": "code",
        "outputId": "d49a0813-c297-438b-eb25-da9c8a3c9bac",
        "colab": {
          "base_uri": "https://localhost:8080/",
          "height": 54
        }
      },
      "source": [
        "a = a.reshape(2,3)#to reshape\n",
        "a"
      ],
      "execution_count": 0,
      "outputs": [
        {
          "output_type": "execute_result",
          "data": {
            "text/plain": [
              "array([[ 1,  3,  5],\n",
              "       [ 7,  9, 11]])"
            ]
          },
          "metadata": {
            "tags": []
          },
          "execution_count": 55
        }
      ]
    },
    {
      "cell_type": "code",
      "metadata": {
        "id": "oTJ46ipr4fjR",
        "colab_type": "code",
        "outputId": "66c5b114-a613-4b31-fcfe-30cd4c0c9a90",
        "colab": {
          "base_uri": "https://localhost:8080/",
          "height": 54
        }
      },
      "source": [
        "#ravel():-->flattens your array elements\n",
        "print(np.array(a.flat))\n",
        "print(a.ravel())"
      ],
      "execution_count": 0,
      "outputs": [
        {
          "output_type": "stream",
          "text": [
            "[ 1  3  5  7  9 11]\n",
            "[ 1  3  5  7  9 11]\n"
          ],
          "name": "stdout"
        }
      ]
    },
    {
      "cell_type": "code",
      "metadata": {
        "id": "k5OPjpau4hmA",
        "colab_type": "code",
        "colab": {}
      },
      "source": [
        "#Function:\n",
        "min()\n",
        "max()\n",
        "sum()\n",
        "sqrt()\n",
        "mean()\n",
        "median()#numpy donot have mode function\n",
        "std()"
      ],
      "execution_count": 0,
      "outputs": []
    },
    {
      "cell_type": "code",
      "metadata": {
        "id": "EqcxSzia4ni6",
        "colab_type": "code",
        "outputId": "b2d84401-48bd-425a-d72a-268e524843bc",
        "colab": {
          "base_uri": "https://localhost:8080/",
          "height": 54
        }
      },
      "source": [
        "print(a)"
      ],
      "execution_count": 0,
      "outputs": [
        {
          "output_type": "stream",
          "text": [
            "[[ 1  3  5]\n",
            " [ 7  9 11]]\n"
          ],
          "name": "stdout"
        }
      ]
    },
    {
      "cell_type": "code",
      "metadata": {
        "id": "ZzaCI9fk4pCQ",
        "colab_type": "code",
        "outputId": "fe79d93a-14c1-4f93-d0ee-b1b5f9b195fb",
        "colab": {
          "base_uri": "https://localhost:8080/",
          "height": 54
        }
      },
      "source": [
        "print(a.min())\n",
        "print(a.max())"
      ],
      "execution_count": 0,
      "outputs": [
        {
          "output_type": "stream",
          "text": [
            "1\n",
            "11\n"
          ],
          "name": "stdout"
        }
      ]
    },
    {
      "cell_type": "code",
      "metadata": {
        "id": "L_404jym4q8f",
        "colab_type": "code",
        "outputId": "eb4bc4d0-c35f-4553-a65d-ac435645df6c",
        "colab": {
          "base_uri": "https://localhost:8080/",
          "height": 35
        }
      },
      "source": [
        "print(a.sum())##sum of all elements of the arrrray"
      ],
      "execution_count": 0,
      "outputs": [
        {
          "output_type": "stream",
          "text": [
            "36\n"
          ],
          "name": "stdout"
        }
      ]
    },
    {
      "cell_type": "code",
      "metadata": {
        "id": "So5F2bKU4s8w",
        "colab_type": "code",
        "outputId": "03cfd85b-792e-4f4c-8739-30470f2725e8",
        "colab": {
          "base_uri": "https://localhost:8080/",
          "height": 54
        }
      },
      "source": [
        "print(a.sum(axis=1))#sum of row elements\n",
        "print(a.sum(axis=0))#sum of column elements"
      ],
      "execution_count": 0,
      "outputs": [
        {
          "output_type": "stream",
          "text": [
            "[ 9 27]\n",
            "[ 8 12 16]\n"
          ],
          "name": "stdout"
        }
      ]
    },
    {
      "cell_type": "code",
      "metadata": {
        "id": "dVQMbZ5Z4uzw",
        "colab_type": "code",
        "outputId": "6224e569-e7bc-42f6-d792-6e0273e2a7d5",
        "colab": {
          "base_uri": "https://localhost:8080/",
          "height": 54
        }
      },
      "source": [
        "np.sqrt(a)"
      ],
      "execution_count": 0,
      "outputs": [
        {
          "output_type": "execute_result",
          "data": {
            "text/plain": [
              "array([[1.        , 1.73205081, 2.23606798],\n",
              "       [2.64575131, 3.        , 3.31662479]])"
            ]
          },
          "metadata": {
            "tags": []
          },
          "execution_count": 62
        }
      ]
    },
    {
      "cell_type": "code",
      "metadata": {
        "id": "2xQif-A44weg",
        "colab_type": "code",
        "outputId": "58142034-f1c3-491a-aa22-a6b02d160292",
        "colab": {
          "base_uri": "https://localhost:8080/",
          "height": 35
        }
      },
      "source": [
        "np.mean(a)"
      ],
      "execution_count": 0,
      "outputs": [
        {
          "output_type": "execute_result",
          "data": {
            "text/plain": [
              "6.0"
            ]
          },
          "metadata": {
            "tags": []
          },
          "execution_count": 63
        }
      ]
    },
    {
      "cell_type": "code",
      "metadata": {
        "id": "D7BmA0aI45NP",
        "colab_type": "code",
        "outputId": "4ed299c2-b9e3-42f1-e169-78fe64ce2612",
        "colab": {
          "base_uri": "https://localhost:8080/",
          "height": 35
        }
      },
      "source": [
        "np.median(a)"
      ],
      "execution_count": 0,
      "outputs": [
        {
          "output_type": "execute_result",
          "data": {
            "text/plain": [
              "6.0"
            ]
          },
          "metadata": {
            "tags": []
          },
          "execution_count": 64
        }
      ]
    },
    {
      "cell_type": "code",
      "metadata": {
        "id": "ZLFk1oYd5Ah_",
        "colab_type": "code",
        "outputId": "55fe8ecf-cdaa-4367-f955-71d9daec77e6",
        "colab": {
          "base_uri": "https://localhost:8080/",
          "height": 35
        }
      },
      "source": [
        "np.std(a)##standard deviation"
      ],
      "execution_count": 0,
      "outputs": [
        {
          "output_type": "execute_result",
          "data": {
            "text/plain": [
              "3.415650255319866"
            ]
          },
          "metadata": {
            "tags": []
          },
          "execution_count": 65
        }
      ]
    },
    {
      "cell_type": "code",
      "metadata": {
        "id": "AdQcR9T15DAO",
        "colab_type": "code",
        "colab": {}
      },
      "source": [
        "#######Mathematical operations:\n",
        "+,-,*,/,%"
      ],
      "execution_count": 0,
      "outputs": []
    },
    {
      "cell_type": "code",
      "metadata": {
        "id": "gXjVSgPq5FWo",
        "colab_type": "code",
        "outputId": "ba529852-40f3-40a2-ae0e-30e685709a76",
        "colab": {
          "base_uri": "https://localhost:8080/",
          "height": 126
        }
      },
      "source": [
        "a6 = np.arange(1,11) \n",
        "a7 = np.arange(11,21)\n",
        "print(a6 + a7)\n",
        "print(a6 - a7)\n",
        "print(a6 * a7)\n",
        "print(a6 / a7)\n",
        "print(a6 % a7)"
      ],
      "execution_count": 0,
      "outputs": [
        {
          "output_type": "stream",
          "text": [
            "[12 14 16 18 20 22 24 26 28 30]\n",
            "[-10 -10 -10 -10 -10 -10 -10 -10 -10 -10]\n",
            "[ 11  24  39  56  75  96 119 144 171 200]\n",
            "[0.09090909 0.16666667 0.23076923 0.28571429 0.33333333 0.375\n",
            " 0.41176471 0.44444444 0.47368421 0.5       ]\n",
            "[ 1  2  3  4  5  6  7  8  9 10]\n"
          ],
          "name": "stdout"
        }
      ]
    },
    {
      "cell_type": "code",
      "metadata": {
        "id": "iZN-P1VK5HDw",
        "colab_type": "code",
        "colab": {}
      },
      "source": [
        "#dot()-->Matrix multiplication\n",
        "#arr1 = m x n\n",
        "#arr2 = n x l"
      ],
      "execution_count": 0,
      "outputs": []
    },
    {
      "cell_type": "code",
      "metadata": {
        "id": "6lWMemcq5Qef",
        "colab_type": "code",
        "outputId": "8bf720e6-b632-4993-fa28-46715bdbf496",
        "colab": {
          "base_uri": "https://localhost:8080/",
          "height": 72
        }
      },
      "source": [
        "arr1 = np.arange(1,10).reshape(3,3)\n",
        "arr2 = np.arange(11,20).reshape(3,3)\n",
        "arr1.dot(arr2)"
      ],
      "execution_count": 0,
      "outputs": [
        {
          "output_type": "execute_result",
          "data": {
            "text/plain": [
              "array([[ 90,  96, 102],\n",
              "       [216, 231, 246],\n",
              "       [342, 366, 390]])"
            ]
          },
          "metadata": {
            "tags": []
          },
          "execution_count": 72
        }
      ]
    },
    {
      "cell_type": "code",
      "metadata": {
        "id": "B7YDNkK75T1f",
        "colab_type": "code",
        "outputId": "86c5d3bd-ef18-4f96-e231-dbdf29344472",
        "colab": {
          "base_uri": "https://localhost:8080/",
          "height": 72
        }
      },
      "source": [
        "arr1"
      ],
      "execution_count": 0,
      "outputs": [
        {
          "output_type": "execute_result",
          "data": {
            "text/plain": [
              "array([[1, 2, 3],\n",
              "       [4, 5, 6],\n",
              "       [7, 8, 9]])"
            ]
          },
          "metadata": {
            "tags": []
          },
          "execution_count": 73
        }
      ]
    },
    {
      "cell_type": "code",
      "metadata": {
        "id": "zOZmPy__5Vre",
        "colab_type": "code",
        "outputId": "852138b3-4c6f-457a-862d-8dcc20f5a862",
        "colab": {
          "base_uri": "https://localhost:8080/",
          "height": 72
        }
      },
      "source": [
        "arr1.T#transpose of an array"
      ],
      "execution_count": 0,
      "outputs": [
        {
          "output_type": "execute_result",
          "data": {
            "text/plain": [
              "array([[1, 4, 7],\n",
              "       [2, 5, 8],\n",
              "       [3, 6, 9]])"
            ]
          },
          "metadata": {
            "tags": []
          },
          "execution_count": 74
        }
      ]
    },
    {
      "cell_type": "code",
      "metadata": {
        "id": "Wi1AmEg65Xeu",
        "colab_type": "code",
        "colab": {}
      },
      "source": [
        "#Applying user defined functions:"
      ],
      "execution_count": 0,
      "outputs": []
    },
    {
      "cell_type": "code",
      "metadata": {
        "id": "ClpFszae5ZcO",
        "colab_type": "code",
        "outputId": "81fe8d7b-f1de-42e4-e5f3-1f76ce400f07",
        "colab": {
          "base_uri": "https://localhost:8080/",
          "height": 35
        }
      },
      "source": [
        "list1 = list(range(1,20))\n",
        "list1"
      ],
      "execution_count": 0,
      "outputs": [
        {
          "output_type": "execute_result",
          "data": {
            "text/plain": [
              "[1, 2, 3, 4, 5, 6, 7, 8, 9, 10, 11, 12, 13, 14, 15, 16, 17, 18, 19]"
            ]
          },
          "metadata": {
            "tags": []
          },
          "execution_count": 76
        }
      ]
    },
    {
      "cell_type": "code",
      "metadata": {
        "id": "EgFhTEme5cZ-",
        "colab_type": "code",
        "outputId": "f2dce2b2-308f-43d9-ec80-4b6c06dd4190",
        "colab": {
          "base_uri": "https://localhost:8080/",
          "height": 54
        }
      },
      "source": [
        "a = np.array(list1)\n",
        "a"
      ],
      "execution_count": 0,
      "outputs": [
        {
          "output_type": "execute_result",
          "data": {
            "text/plain": [
              "array([ 1,  2,  3,  4,  5,  6,  7,  8,  9, 10, 11, 12, 13, 14, 15, 16, 17,\n",
              "       18, 19])"
            ]
          },
          "metadata": {
            "tags": []
          },
          "execution_count": 77
        }
      ]
    },
    {
      "cell_type": "code",
      "metadata": {
        "id": "pLAClcz55jDu",
        "colab_type": "code",
        "outputId": "99f763e3-c6ad-41f8-c97d-ee176c3751ad",
        "colab": {
          "base_uri": "https://localhost:8080/",
          "height": 135
        }
      },
      "source": [
        "x/(x+1)-->1/(1+1)"
      ],
      "execution_count": 0,
      "outputs": [
        {
          "output_type": "error",
          "ename": "SyntaxError",
          "evalue": "ignored",
          "traceback": [
            "\u001b[0;36m  File \u001b[0;32m\"<ipython-input-78-ad3ff74c811b>\"\u001b[0;36m, line \u001b[0;32m1\u001b[0m\n\u001b[0;31m    x/(x+1)-->1/(1+1)\u001b[0m\n\u001b[0m             ^\u001b[0m\n\u001b[0;31mSyntaxError\u001b[0m\u001b[0;31m:\u001b[0m invalid syntax\n"
          ]
        }
      ]
    },
    {
      "cell_type": "code",
      "metadata": {
        "id": "HRwTu7f35lR-",
        "colab_type": "code",
        "outputId": "e40c3cf0-94dc-4afd-dc34-f026cd13060a",
        "colab": {
          "base_uri": "https://localhost:8080/",
          "height": 363
        }
      },
      "source": [
        "result =  [x/(x+1) for x in list1]\n",
        "result"
      ],
      "execution_count": 0,
      "outputs": [
        {
          "output_type": "execute_result",
          "data": {
            "text/plain": [
              "[0.5,\n",
              " 0.6666666666666666,\n",
              " 0.75,\n",
              " 0.8,\n",
              " 0.8333333333333334,\n",
              " 0.8571428571428571,\n",
              " 0.875,\n",
              " 0.8888888888888888,\n",
              " 0.9,\n",
              " 0.9090909090909091,\n",
              " 0.9166666666666666,\n",
              " 0.9230769230769231,\n",
              " 0.9285714285714286,\n",
              " 0.9333333333333333,\n",
              " 0.9375,\n",
              " 0.9411764705882353,\n",
              " 0.9444444444444444,\n",
              " 0.9473684210526315,\n",
              " 0.95]"
            ]
          },
          "metadata": {
            "tags": []
          },
          "execution_count": 79
        }
      ]
    },
    {
      "cell_type": "code",
      "metadata": {
        "id": "Eg8DIIfo5op_",
        "colab_type": "code",
        "outputId": "1feb2a28-1e25-43f4-9041-2b6d3b736302",
        "colab": {
          "base_uri": "https://localhost:8080/",
          "height": 90
        }
      },
      "source": [
        "f = np.vectorize(lambda x:x/(x+1))\n",
        "f(a)"
      ],
      "execution_count": 0,
      "outputs": [
        {
          "output_type": "execute_result",
          "data": {
            "text/plain": [
              "array([0.5       , 0.66666667, 0.75      , 0.8       , 0.83333333,\n",
              "       0.85714286, 0.875     , 0.88888889, 0.9       , 0.90909091,\n",
              "       0.91666667, 0.92307692, 0.92857143, 0.93333333, 0.9375    ,\n",
              "       0.94117647, 0.94444444, 0.94736842, 0.95      ])"
            ]
          },
          "metadata": {
            "tags": []
          },
          "execution_count": 80
        }
      ]
    },
    {
      "cell_type": "code",
      "metadata": {
        "id": "ZAGVQnOf5q7-",
        "colab_type": "code",
        "colab": {}
      },
      "source": [
        "help(np.linalg)"
      ],
      "execution_count": 0,
      "outputs": []
    },
    {
      "cell_type": "code",
      "metadata": {
        "id": "juSJI-3v5tC5",
        "colab_type": "code",
        "colab": {}
      },
      "source": [
        "help(np.random)"
      ],
      "execution_count": 0,
      "outputs": []
    }
  ]
}