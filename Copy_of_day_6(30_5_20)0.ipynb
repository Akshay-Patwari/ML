{
  "nbformat": 4,
  "nbformat_minor": 0,
  "metadata": {
    "colab": {
      "name": "Copy of day-6(30-5-20)0.ipynb",
      "provenance": [],
      "authorship_tag": "ABX9TyOFrIW4DNaAEcyF2MvxrFUI",
      "include_colab_link": true
    },
    "kernelspec": {
      "name": "python3",
      "display_name": "Python 3"
    }
  },
  "cells": [
    {
      "cell_type": "markdown",
      "metadata": {
        "id": "view-in-github",
        "colab_type": "text"
      },
      "source": [
        "<a href=\"https://colab.research.google.com/github/akshaypatwari47/ML/blob/master/Copy_of_day_6(30_5_20)0.ipynb\" target=\"_parent\"><img src=\"https://colab.research.google.com/assets/colab-badge.svg\" alt=\"Open In Colab\"/></a>"
      ]
    },
    {
      "cell_type": "code",
      "metadata": {
        "id": "ld_HcHHlasMq",
        "colab_type": "code",
        "outputId": "345da6a9-1a5c-40ca-d510-8144ef32af1b",
        "colab": {
          "base_uri": "https://localhost:8080/",
          "height": 34
        }
      },
      "source": [
        "#Recursive functions:\n",
        "#factorial of a number\n",
        "def fact(n):\n",
        "  if n == 0:\n",
        "    return 1\n",
        "  else :\n",
        "    return n*fact(n-1)\n",
        "fact(5)"
      ],
      "execution_count": 0,
      "outputs": [
        {
          "output_type": "execute_result",
          "data": {
            "text/plain": [
              "120"
            ]
          },
          "metadata": {
            "tags": []
          },
          "execution_count": 1
        }
      ]
    },
    {
      "cell_type": "code",
      "metadata": {
        "id": "ECYrpPCzawfn",
        "colab_type": "code",
        "outputId": "2609bbd4-9f54-441c-d142-d71cfd714a48",
        "colab": {
          "base_uri": "https://localhost:8080/",
          "height": 34
        }
      },
      "source": [
        "#Lower bound and Upper bound\n",
        "def display(lb,ub):\n",
        "  if lb > ub:\n",
        "    return#to exit from looop\n",
        "  else:\n",
        "    print(lb,end=' ')\n",
        "    display(lb+1,ub)\n",
        "\n",
        "\n",
        "display(1,10)"
      ],
      "execution_count": 0,
      "outputs": [
        {
          "output_type": "stream",
          "text": [
            "1 2 3 4 5 6 7 8 9 10 "
          ],
          "name": "stdout"
        }
      ]
    },
    {
      "cell_type": "code",
      "metadata": {
        "id": "3xBOuvRla1hh",
        "colab_type": "code",
        "outputId": "90dd2c49-6bd8-4bfb-c1c0-65e4f9c136be",
        "colab": {
          "base_uri": "https://localhost:8080/",
          "height": 51
        }
      },
      "source": [
        "#Fibanacci series:0,1,1,2,3,5,8,13,21,34........               printing nth value of series \n",
        "import time\n",
        "def rec(n):\n",
        "  if n == 1:\n",
        "    return 0\n",
        "  elif n == 2:\n",
        "    return 1\n",
        "  else:\n",
        "    return rec(n-2) + rec(n-1)\n",
        "prev = time.time()\n",
        "print(rec(20))\n",
        "print(time.time() - prev) "
      ],
      "execution_count": 0,
      "outputs": [
        {
          "output_type": "stream",
          "text": [
            "4181\n",
            "0.0054471492767333984\n"
          ],
          "name": "stdout"
        }
      ]
    },
    {
      "cell_type": "code",
      "metadata": {
        "id": "Xz4mp9nqa35i",
        "colab_type": "code",
        "outputId": "1f987fff-59b0-40d3-b7d8-30de25a34a1e",
        "colab": {
          "base_uri": "https://localhost:8080/",
          "height": 51
        }
      },
      "source": [
        "#if value of n is big it becomes difficult to obtain output fast..below is the other using list\n",
        "import time\n",
        "fibs = [0,1]\n",
        "def fibo(n):\n",
        "  if n <= len(fibs):\n",
        "    return fibs[n-1]\n",
        "  else:\n",
        "    fibs.append(fibs[len(fibs)-1] + fibs[len(fibs)-2] )\n",
        "    return fibo(n)\n",
        "prev = time.time()\n",
        "print(fibo(20))\n",
        "print(time.time() - prev) \n"
      ],
      "execution_count": 0,
      "outputs": [
        {
          "output_type": "stream",
          "text": [
            "4181\n",
            "0.0001316070556640625\n"
          ],
          "name": "stdout"
        }
      ]
    },
    {
      "cell_type": "code",
      "metadata": {
        "id": "PmPeQ9Qxa6VB",
        "colab_type": "code",
        "outputId": "04cacb5b-0e93-44bb-e395-5895dcaec334",
        "colab": {
          "base_uri": "https://localhost:8080/",
          "height": 129
        }
      },
      "source": [
        "###list:\n",
        "#Builtin methods:\n",
        "\n",
        "1.append()\n",
        "2.insert()\n",
        "3.extend()"
      ],
      "execution_count": 0,
      "outputs": [
        {
          "output_type": "error",
          "ename": "SyntaxError",
          "evalue": "ignored",
          "traceback": [
            "\u001b[0;36m  File \u001b[0;32m\"<ipython-input-5-1a26c679724d>\"\u001b[0;36m, line \u001b[0;32m4\u001b[0m\n\u001b[0;31m    1.append()\u001b[0m\n\u001b[0m           ^\u001b[0m\n\u001b[0;31mSyntaxError\u001b[0m\u001b[0;31m:\u001b[0m invalid syntax\n"
          ]
        }
      ]
    },
    {
      "cell_type": "code",
      "metadata": {
        "id": "KC1O4DCia8ux",
        "colab_type": "code",
        "outputId": "821e357d-ddaf-479a-8ba9-a9bc6056ac06",
        "colab": {
          "base_uri": "https://localhost:8080/",
          "height": 51
        }
      },
      "source": [
        "list1 = [1,2,3,4,5]\n",
        "list1.append(6)\n",
        "print(list1)\n",
        "list1.append(7)\n",
        "print(list1)\n"
      ],
      "execution_count": 0,
      "outputs": [
        {
          "output_type": "stream",
          "text": [
            "[1, 2, 3, 4, 5, 6]\n",
            "[1, 2, 3, 4, 5, 6, 7]\n"
          ],
          "name": "stdout"
        }
      ]
    },
    {
      "cell_type": "code",
      "metadata": {
        "id": "Q7-EoX0lbBVA",
        "colab_type": "code",
        "outputId": "cb7c8111-f5fc-4b2b-a6e0-52a3cd644876",
        "colab": {
          "base_uri": "https://localhost:8080/",
          "height": 34
        }
      },
      "source": [
        "#insert()\n",
        "list1.insert(2,10)\n",
        "print(list1)#to insert at required position"
      ],
      "execution_count": 0,
      "outputs": [
        {
          "output_type": "stream",
          "text": [
            "[1, 2, 10, 3, 4, 5, 6, 7]\n"
          ],
          "name": "stdout"
        }
      ]
    },
    {
      "cell_type": "code",
      "metadata": {
        "id": "4tl4S2-mbD1w",
        "colab_type": "code",
        "outputId": "3f58b1a1-1d55-4f9c-c525-74f3d52529b8",
        "colab": {
          "base_uri": "https://localhost:8080/",
          "height": 34
        }
      },
      "source": [
        "list1.insert(2,15)\n",
        "print(list1)"
      ],
      "execution_count": 0,
      "outputs": [
        {
          "output_type": "stream",
          "text": [
            "[1, 2, 15, 10, 3, 4, 5, 6, 7]\n"
          ],
          "name": "stdout"
        }
      ]
    },
    {
      "cell_type": "code",
      "metadata": {
        "id": "jWdpWM6fbJGB",
        "colab_type": "code",
        "outputId": "94e28540-f0a5-4f14-a91d-9020ea95dd4a",
        "colab": {
          "base_uri": "https://localhost:8080/",
          "height": 34
        }
      },
      "source": [
        "#extend:inserting multiple values at the end\n",
        "list1.extend([8,9,10])\n",
        "print(list1)"
      ],
      "execution_count": 0,
      "outputs": [
        {
          "output_type": "stream",
          "text": [
            "[1, 2, 15, 10, 3, 4, 5, 6, 7, 8, 9, 10]\n"
          ],
          "name": "stdout"
        }
      ]
    },
    {
      "cell_type": "code",
      "metadata": {
        "id": "LibBdx1AbLEw",
        "colab_type": "code",
        "outputId": "b54a1183-04ff-4cde-ddf2-1a4c54e37d09",
        "colab": {
          "base_uri": "https://localhost:8080/",
          "height": 129
        }
      },
      "source": [
        "###Removing elements:\n",
        "1.pop()"
      ],
      "execution_count": 0,
      "outputs": [
        {
          "output_type": "error",
          "ename": "SyntaxError",
          "evalue": "ignored",
          "traceback": [
            "\u001b[0;36m  File \u001b[0;32m\"<ipython-input-10-70bde1770ed6>\"\u001b[0;36m, line \u001b[0;32m2\u001b[0m\n\u001b[0;31m    1.pop()\u001b[0m\n\u001b[0m        ^\u001b[0m\n\u001b[0;31mSyntaxError\u001b[0m\u001b[0;31m:\u001b[0m invalid syntax\n"
          ]
        }
      ]
    },
    {
      "cell_type": "code",
      "metadata": {
        "id": "tt7BcGh6bNXB",
        "colab_type": "code",
        "outputId": "201f4a98-e563-414f-841c-36faf016edfb",
        "colab": {
          "base_uri": "https://localhost:8080/",
          "height": 34
        }
      },
      "source": [
        "list1.pop()#by default it has index -1\n",
        "print(list1)"
      ],
      "execution_count": 0,
      "outputs": [
        {
          "output_type": "stream",
          "text": [
            "[1, 2, 15, 10, 3, 4, 5, 6, 7, 8, 9]\n"
          ],
          "name": "stdout"
        }
      ]
    },
    {
      "cell_type": "code",
      "metadata": {
        "id": "OQdAgM3_bRsA",
        "colab_type": "code",
        "outputId": "ecb76d7b-60e5-42a6-bd3b-ad0696810402",
        "colab": {
          "base_uri": "https://localhost:8080/",
          "height": 34
        }
      },
      "source": [
        "list1.pop(2)\n",
        "print(list1)"
      ],
      "execution_count": 0,
      "outputs": [
        {
          "output_type": "stream",
          "text": [
            "[1, 2, 10, 3, 4, 5, 6, 7, 8, 9]\n"
          ],
          "name": "stdout"
        }
      ]
    },
    {
      "cell_type": "code",
      "metadata": {
        "id": "24NaaYWtbUeA",
        "colab_type": "code",
        "outputId": "b630edf6-aac0-430f-e630-f82c0e335cd6",
        "colab": {
          "base_uri": "https://localhost:8080/",
          "height": 34
        }
      },
      "source": [
        "#remove            if index is not known\n",
        "list1.remove(10)\n",
        "print(list1)"
      ],
      "execution_count": 0,
      "outputs": [
        {
          "output_type": "stream",
          "text": [
            "[1, 2, 3, 4, 5, 6, 7, 8, 9]\n"
          ],
          "name": "stdout"
        }
      ]
    },
    {
      "cell_type": "code",
      "metadata": {
        "id": "LyKfBE9lbYYA",
        "colab_type": "code",
        "outputId": "056255c4-53c8-44d6-c5c7-0de14631c3d7",
        "colab": {
          "base_uri": "https://localhost:8080/",
          "height": 34
        }
      },
      "source": [
        "#clear              cleares entire list\n",
        "list1.clear()\n",
        "list1"
      ],
      "execution_count": 0,
      "outputs": [
        {
          "output_type": "execute_result",
          "data": {
            "text/plain": [
              "[]"
            ]
          },
          "metadata": {
            "tags": []
          },
          "execution_count": 14
        }
      ]
    },
    {
      "cell_type": "code",
      "metadata": {
        "id": "15EN0A9pba_Q",
        "colab_type": "code",
        "outputId": "b54dfa59-5b36-4ae5-983c-dbca8505061c",
        "colab": {
          "base_uri": "https://localhost:8080/",
          "height": 51
        }
      },
      "source": [
        "list1 = [23,34,45,76,56,76,67,78]\n",
        "print(list1.index(34))#returns index of element\n",
        "print(list1.count(76))#returns freq of element"
      ],
      "execution_count": 0,
      "outputs": [
        {
          "output_type": "stream",
          "text": [
            "1\n",
            "2\n"
          ],
          "name": "stdout"
        }
      ]
    },
    {
      "cell_type": "code",
      "metadata": {
        "id": "DOxo00lSbdev",
        "colab_type": "code",
        "outputId": "ea2029fd-10d5-4372-afcb-b6faae118720",
        "colab": {
          "base_uri": "https://localhost:8080/",
          "height": 34
        }
      },
      "source": [
        "list1.sort()#to get the ascending order\n",
        "print(list1)"
      ],
      "execution_count": 0,
      "outputs": [
        {
          "output_type": "stream",
          "text": [
            "[23, 34, 45, 56, 67, 76, 76, 78]\n"
          ],
          "name": "stdout"
        }
      ]
    },
    {
      "cell_type": "code",
      "metadata": {
        "id": "HFnRzRs3bgB_",
        "colab_type": "code",
        "outputId": "11bc6841-8452-4de2-a3dc-5a1604d11139",
        "colab": {
          "base_uri": "https://localhost:8080/",
          "height": 34
        }
      },
      "source": [
        "list1.sort(reverse = True)# to get descending order      to get acsending order change it to false\n",
        "print(list1)"
      ],
      "execution_count": 0,
      "outputs": [
        {
          "output_type": "stream",
          "text": [
            "[78, 76, 76, 67, 56, 45, 34, 23]\n"
          ],
          "name": "stdout"
        }
      ]
    },
    {
      "cell_type": "code",
      "metadata": {
        "id": "nHR-IShGbiCv",
        "colab_type": "code",
        "outputId": "0e80618f-9ad2-453a-ab7a-c38d69935938",
        "colab": {
          "base_uri": "https://localhost:8080/",
          "height": 34
        }
      },
      "source": [
        "#reverse\n",
        "list1.reverse()\n",
        "print(list1)"
      ],
      "execution_count": 0,
      "outputs": [
        {
          "output_type": "stream",
          "text": [
            "[23, 34, 45, 56, 67, 76, 76, 78]\n"
          ],
          "name": "stdout"
        }
      ]
    },
    {
      "cell_type": "code",
      "metadata": {
        "id": "RaUTJjF7bkKP",
        "colab_type": "code",
        "outputId": "9e10e6dc-a872-489d-9e54-2eb9e935663a",
        "colab": {
          "base_uri": "https://localhost:8080/",
          "height": 68
        }
      },
      "source": [
        "list1 = [1,2,3,4,5]\n",
        "list2 = []\n",
        "list3 = []\n",
        "list2 = list1 \n",
        "print(list2)\n",
        "list3 = list1.copy()#changes on original list willnot ne saved in shallow copy\n",
        "print(list3)#changes on original list will be saved in deep copy\n",
        "list1.append(6)\n",
        "list1.append(7)\n",
        "print(list1,list2,list3)"
      ],
      "execution_count": 0,
      "outputs": [
        {
          "output_type": "stream",
          "text": [
            "[1, 2, 3, 4, 5]\n",
            "[1, 2, 3, 4, 5]\n",
            "[1, 2, 3, 4, 5, 6, 7] [1, 2, 3, 4, 5, 6, 7] [1, 2, 3, 4, 5]\n"
          ],
          "name": "stdout"
        }
      ]
    },
    {
      "cell_type": "code",
      "metadata": {
        "id": "NIMowrFdbmS_",
        "colab_type": "code",
        "colab": {}
      },
      "source": [
        "###File handling:\n",
        "1.create a file\n",
        "2.add some text\n",
        "3.save\n",
        "4.read\n",
        "5.append\n",
        "6.rename\n",
        "7.remove"
      ],
      "execution_count": 0,
      "outputs": []
    },
    {
      "cell_type": "code",
      "metadata": {
        "id": "1823A4-_bpNN",
        "colab_type": "code",
        "colab": {}
      },
      "source": [
        "##modes:\n",
        "1.write(w).........if file is not available,new file will be created and content is added to it,if file is available,existing info is removed and another is added\n",
        "2.read(r)............file must be available\n",
        "3.append(a)...........if file is not available,a new file is created and content is added,if present,content is added to original\n",
        "4.new file creation(x)............new file is created if file is not there with mentioned name"
      ],
      "execution_count": 0,
      "outputs": []
    },
    {
      "cell_type": "code",
      "metadata": {
        "id": "gkky_hfYbrqE",
        "colab_type": "code",
        "colab": {}
      },
      "source": [
        "1.open()\n",
        "2.close()     two builtin functions used freq"
      ],
      "execution_count": 0,
      "outputs": []
    },
    {
      "cell_type": "code",
      "metadata": {
        "id": "vVH6k5cObuu9",
        "colab_type": "code",
        "colab": {}
      },
      "source": [
        "f = open(\"sample.txt\",\"w\")#file is creatd in write mode\n",
        "f.write(\"hello ever!!\")\n",
        "f.close()#all changes will be saved and file will be closed"
      ],
      "execution_count": 0,
      "outputs": []
    },
    {
      "cell_type": "code",
      "metadata": {
        "id": "qQouycPWbxMQ",
        "colab_type": "code",
        "outputId": "c428133a-8b1a-4758-faf8-04cba8ab00e1",
        "colab": {
          "base_uri": "https://localhost:8080/",
          "height": 214
        }
      },
      "source": [
        "f = open(\"sample.txt\",\"r\")\n",
        "data = f.read()\n",
        "print(data)\n",
        "f.close()  #reading contents from the file"
      ],
      "execution_count": 0,
      "outputs": [
        {
          "output_type": "error",
          "ename": "FileNotFoundError",
          "evalue": "ignored",
          "traceback": [
            "\u001b[0;31m---------------------------------------------------------------------------\u001b[0m",
            "\u001b[0;31mFileNotFoundError\u001b[0m                         Traceback (most recent call last)",
            "\u001b[0;32m<ipython-input-21-48571866d4fd>\u001b[0m in \u001b[0;36m<module>\u001b[0;34m()\u001b[0m\n\u001b[0;32m----> 1\u001b[0;31m \u001b[0mf\u001b[0m \u001b[0;34m=\u001b[0m \u001b[0mopen\u001b[0m\u001b[0;34m(\u001b[0m\u001b[0;34m\"sample.txt\"\u001b[0m\u001b[0;34m,\u001b[0m\u001b[0;34m\"r\"\u001b[0m\u001b[0;34m)\u001b[0m\u001b[0;34m\u001b[0m\u001b[0;34m\u001b[0m\u001b[0m\n\u001b[0m\u001b[1;32m      2\u001b[0m \u001b[0mdata\u001b[0m \u001b[0;34m=\u001b[0m \u001b[0mf\u001b[0m\u001b[0;34m.\u001b[0m\u001b[0mread\u001b[0m\u001b[0;34m(\u001b[0m\u001b[0;34m)\u001b[0m\u001b[0;34m\u001b[0m\u001b[0;34m\u001b[0m\u001b[0m\n\u001b[1;32m      3\u001b[0m \u001b[0mprint\u001b[0m\u001b[0;34m(\u001b[0m\u001b[0mdata\u001b[0m\u001b[0;34m)\u001b[0m\u001b[0;34m\u001b[0m\u001b[0;34m\u001b[0m\u001b[0m\n\u001b[1;32m      4\u001b[0m \u001b[0mf\u001b[0m\u001b[0;34m.\u001b[0m\u001b[0mclose\u001b[0m\u001b[0;34m(\u001b[0m\u001b[0;34m)\u001b[0m  \u001b[0;31m#reading contents from the file\u001b[0m\u001b[0;34m\u001b[0m\u001b[0;34m\u001b[0m\u001b[0m\n",
            "\u001b[0;31mFileNotFoundError\u001b[0m: [Errno 2] No such file or directory: 'sample.txt'"
          ]
        }
      ]
    },
    {
      "cell_type": "code",
      "metadata": {
        "id": "l6knQ1eTbzXv",
        "colab_type": "code",
        "colab": {}
      },
      "source": [
        "f = open(\"sample.txt\",\"a\")\n",
        "s = '''kghreiug\n",
        "uhk'''             #appending\n",
        "f.write(s)\n",
        "f.close()"
      ],
      "execution_count": 0,
      "outputs": []
    },
    {
      "cell_type": "code",
      "metadata": {
        "id": "GsXIFeHpb61d",
        "colab_type": "code",
        "outputId": "3e8a053c-9f8f-496b-ce9b-e5c0787d11f8",
        "colab": {
          "base_uri": "https://localhost:8080/",
          "height": 214
        }
      },
      "source": [
        "f = open(\"sample.txt\",\"r\")\n",
        "data = f.read()\n",
        "print(data)\n",
        "f.close()  #reading contents from the file"
      ],
      "execution_count": 0,
      "outputs": [
        {
          "output_type": "error",
          "ename": "FileNotFoundError",
          "evalue": "ignored",
          "traceback": [
            "\u001b[0;31m---------------------------------------------------------------------------\u001b[0m",
            "\u001b[0;31mFileNotFoundError\u001b[0m                         Traceback (most recent call last)",
            "\u001b[0;32m<ipython-input-22-48571866d4fd>\u001b[0m in \u001b[0;36m<module>\u001b[0;34m()\u001b[0m\n\u001b[0;32m----> 1\u001b[0;31m \u001b[0mf\u001b[0m \u001b[0;34m=\u001b[0m \u001b[0mopen\u001b[0m\u001b[0;34m(\u001b[0m\u001b[0;34m\"sample.txt\"\u001b[0m\u001b[0;34m,\u001b[0m\u001b[0;34m\"r\"\u001b[0m\u001b[0;34m)\u001b[0m\u001b[0;34m\u001b[0m\u001b[0;34m\u001b[0m\u001b[0m\n\u001b[0m\u001b[1;32m      2\u001b[0m \u001b[0mdata\u001b[0m \u001b[0;34m=\u001b[0m \u001b[0mf\u001b[0m\u001b[0;34m.\u001b[0m\u001b[0mread\u001b[0m\u001b[0;34m(\u001b[0m\u001b[0;34m)\u001b[0m\u001b[0;34m\u001b[0m\u001b[0;34m\u001b[0m\u001b[0m\n\u001b[1;32m      3\u001b[0m \u001b[0mprint\u001b[0m\u001b[0;34m(\u001b[0m\u001b[0mdata\u001b[0m\u001b[0;34m)\u001b[0m\u001b[0;34m\u001b[0m\u001b[0;34m\u001b[0m\u001b[0m\n\u001b[1;32m      4\u001b[0m \u001b[0mf\u001b[0m\u001b[0;34m.\u001b[0m\u001b[0mclose\u001b[0m\u001b[0;34m(\u001b[0m\u001b[0;34m)\u001b[0m  \u001b[0;31m#reading contents from the file\u001b[0m\u001b[0;34m\u001b[0m\u001b[0;34m\u001b[0m\u001b[0m\n",
            "\u001b[0;31mFileNotFoundError\u001b[0m: [Errno 2] No such file or directory: 'sample.txt'"
          ]
        }
      ]
    },
    {
      "cell_type": "code",
      "metadata": {
        "id": "m4CMWiDXb8v-",
        "colab_type": "code",
        "colab": {}
      },
      "source": [
        ""
      ],
      "execution_count": 0,
      "outputs": []
    }
  ]
}