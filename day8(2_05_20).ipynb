{
  "nbformat": 4,
  "nbformat_minor": 0,
  "metadata": {
    "colab": {
      "name": "day8(2-05-20).ipynb",
      "provenance": [],
      "authorship_tag": "ABX9TyNKqksuuRBIZkEbx2ApiUCx",
      "include_colab_link": true
    },
    "kernelspec": {
      "name": "python3",
      "display_name": "Python 3"
    }
  },
  "cells": [
    {
      "cell_type": "markdown",
      "metadata": {
        "id": "view-in-github",
        "colab_type": "text"
      },
      "source": [
        "<a href=\"https://colab.research.google.com/github/akshaypatwari47/ML/blob/master/day8(2_05_20).ipynb\" target=\"_parent\"><img src=\"https://colab.research.google.com/assets/colab-badge.svg\" alt=\"Open In Colab\"/></a>"
      ]
    },
    {
      "cell_type": "code",
      "metadata": {
        "id": "cg4wGqr-Vg4n",
        "colab_type": "code",
        "colab": {}
      },
      "source": [
        "#Q.no:05    30.05.20 assignment\n",
        "##folder-->5 files-->unique file names-->size is 512bits\n",
        "import os\n",
        "import string\n",
        "import random\n",
        "os.mkdir(\"python class\")#creates a folder in present working directory\n",
        "for i in range(5):\n",
        "  file_name = \"copy path from pwd and paste it here\\\\python class\\\\file%d\"%(i)\n",
        "  f = open(file_name,\"a\")\n",
        "  data = \" \"#empty string\n",
        "  for i in range(512):\n",
        "\n",
        "    data = data + random.choice(string.ascii_letters)#adding data to previous string\n",
        "  f.write(data)\n",
        "  f.close()\n",
        "  \n"
      ],
      "execution_count": 0,
      "outputs": []
    },
    {
      "cell_type": "code",
      "metadata": {
        "id": "szDmXr1TV1MI",
        "colab_type": "code",
        "outputId": "2feeb0ca-4575-4d39-b1fb-f267e2efad12",
        "colab": {
          "base_uri": "https://localhost:8080/",
          "height": 34
        }
      },
      "source": [
        "pwd#to check th present working directory"
      ],
      "execution_count": 0,
      "outputs": [
        {
          "output_type": "execute_result",
          "data": {
            "text/plain": [
              "'/content'"
            ]
          },
          "metadata": {
            "tags": []
          },
          "execution_count": 1
        }
      ]
    },
    {
      "cell_type": "code",
      "metadata": {
        "id": "6KwjmPwtV2UV",
        "colab_type": "code",
        "outputId": "494f5480-5c6e-4707-bba4-7a51cba32683",
        "colab": {
          "base_uri": "https://localhost:8080/",
          "height": 34
        }
      },
      "source": [
        "import random\n",
        "import string\n",
        "data = \" \"\n",
        "for i in range(5):\n",
        "  data = data + random.choice(string.ascii_letters)\n",
        "data"
      ],
      "execution_count": 0,
      "outputs": [
        {
          "output_type": "execute_result",
          "data": {
            "text/plain": [
              "' VPuOK'"
            ]
          },
          "metadata": {
            "tags": []
          },
          "execution_count": 2
        }
      ]
    },
    {
      "cell_type": "code",
      "metadata": {
        "id": "ep-m9CnlWAki",
        "colab_type": "code",
        "outputId": "c65399a0-e379-43e9-84f1-1836920d00a3",
        "colab": {
          "base_uri": "https://localhost:8080/",
          "height": 34
        }
      },
      "source": [
        "list1 = list(range(1,11))\n",
        "list1"
      ],
      "execution_count": 0,
      "outputs": [
        {
          "output_type": "execute_result",
          "data": {
            "text/plain": [
              "[1, 2, 3, 4, 5, 6, 7, 8, 9, 10]"
            ]
          },
          "metadata": {
            "tags": []
          },
          "execution_count": 3
        }
      ]
    },
    {
      "cell_type": "code",
      "metadata": {
        "id": "gEEKZG4IWEHS",
        "colab_type": "code",
        "outputId": "5841964e-4cbc-4591-f35f-d4ccaaccf951",
        "colab": {
          "base_uri": "https://localhost:8080/",
          "height": 34
        }
      },
      "source": [
        "#create another list with only even elemnts\n",
        "list2 = []\n",
        "for i in list1:\n",
        "  if i%2 == 0:\n",
        "    list2.append(i)\n",
        "print(list2)"
      ],
      "execution_count": 0,
      "outputs": [
        {
          "output_type": "stream",
          "text": [
            "[2, 4, 6, 8, 10]\n"
          ],
          "name": "stdout"
        }
      ]
    },
    {
      "cell_type": "code",
      "metadata": {
        "id": "xsaUNYB6WHFB",
        "colab_type": "code",
        "outputId": "c6b929b9-f1b1-4437-c3ca-ed9d23da552c",
        "colab": {
          "base_uri": "https://localhost:8080/",
          "height": 34
        }
      },
      "source": [
        "#using list comprehension\n",
        "list3 = [i for i in list1 if i%2 == 0]\n",
        "print(list3)"
      ],
      "execution_count": 0,
      "outputs": [
        {
          "output_type": "stream",
          "text": [
            "[2, 4, 6, 8, 10]\n"
          ],
          "name": "stdout"
        }
      ]
    },
    {
      "cell_type": "code",
      "metadata": {
        "id": "BDBOcVo6WKph",
        "colab_type": "code",
        "outputId": "7adcfd3f-60d4-4e35-a256-21d5e5533d6b",
        "colab": {
          "base_uri": "https://localhost:8080/",
          "height": 52
        }
      },
      "source": [
        "#input : \"hello 12345\"  accept string as an input and print all digits and count of the digits\n",
        "#output : ['1','2','3','4','5'],5\n",
        "s = input(\"enter the string:\")\n",
        "list4 = [ch for ch in s if ch.isdigit()]\n",
        "print(list4,len(list4))"
      ],
      "execution_count": 0,
      "outputs": [
        {
          "output_type": "stream",
          "text": [
            "enter the string:i am akshay\n",
            "[] 0\n"
          ],
          "name": "stdout"
        }
      ]
    },
    {
      "cell_type": "code",
      "metadata": {
        "id": "d7bwUhxKWNzh",
        "colab_type": "code",
        "outputId": "e940e95c-8cd9-4671-d226-65e27a702a94",
        "colab": {
          "base_uri": "https://localhost:8080/",
          "height": 34
        }
      },
      "source": [
        "list5 = list(range(1,11))#output should be sum of each elements in lists\n",
        "list6 = list(range(11,21))\n",
        "print(list5,list6)"
      ],
      "execution_count": 0,
      "outputs": [
        {
          "output_type": "stream",
          "text": [
            "[1, 2, 3, 4, 5, 6, 7, 8, 9, 10] [11, 12, 13, 14, 15, 16, 17, 18, 19, 20]\n"
          ],
          "name": "stdout"
        }
      ]
    },
    {
      "cell_type": "code",
      "metadata": {
        "id": "iZorjJoDWULA",
        "colab_type": "code",
        "outputId": "f6610a74-8438-4d23-b8e4-775717660697",
        "colab": {
          "base_uri": "https://localhost:8080/",
          "height": 34
        }
      },
      "source": [
        "list7 = [list5[i]+list6[i] for i in range(len(list5))]\n",
        "print(list7)"
      ],
      "execution_count": 0,
      "outputs": [
        {
          "output_type": "stream",
          "text": [
            "[12, 14, 16, 18, 20, 22, 24, 26, 28, 30]\n"
          ],
          "name": "stdout"
        }
      ]
    },
    {
      "cell_type": "code",
      "metadata": {
        "id": "oDj3DCvVWXdh",
        "colab_type": "code",
        "outputId": "2cb5755f-95ec-4df6-bf66-95675aa6742a",
        "colab": {
          "base_uri": "https://localhost:8080/",
          "height": 34
        }
      },
      "source": [
        "#zip()\n",
        "result = [x+y for x,y in zip(list5,list6)]#zip is used when we have to use multiple iterations\n",
        "\n",
        "result"
      ],
      "execution_count": 0,
      "outputs": [
        {
          "output_type": "execute_result",
          "data": {
            "text/plain": [
              "[12, 14, 16, 18, 20, 22, 24, 26, 28, 30]"
            ]
          },
          "metadata": {
            "tags": []
          },
          "execution_count": 9
        }
      ]
    },
    {
      "cell_type": "code",
      "metadata": {
        "id": "QwwQ6FvRWakx",
        "colab_type": "code",
        "outputId": "402ae343-df06-4754-856d-362b8ce0207e",
        "colab": {
          "base_uri": "https://localhost:8080/",
          "height": 132
        }
      },
      "source": [
        "#ananymous functions or lambda functions(created by the keyword lambda)\n",
        "         lambda arguments :logic "
      ],
      "execution_count": 0,
      "outputs": [
        {
          "output_type": "error",
          "ename": "IndentationError",
          "evalue": "ignored",
          "traceback": [
            "\u001b[0;36m  File \u001b[0;32m\"<ipython-input-10-27c339d15238>\"\u001b[0;36m, line \u001b[0;32m2\u001b[0m\n\u001b[0;31m    lambda arguments :logic\u001b[0m\n\u001b[0m    ^\u001b[0m\n\u001b[0;31mIndentationError\u001b[0m\u001b[0;31m:\u001b[0m unexpected indent\n"
          ]
        }
      ]
    },
    {
      "cell_type": "code",
      "metadata": {
        "id": "rNvUUJSgWeRA",
        "colab_type": "code",
        "colab": {}
      },
      "source": [
        "s = lambda x : x**2"
      ],
      "execution_count": 0,
      "outputs": []
    },
    {
      "cell_type": "code",
      "metadata": {
        "id": "Xs1asTUpWhqA",
        "colab_type": "code",
        "outputId": "80d309da-d5ac-4296-aab1-55e5a4a96961",
        "colab": {
          "base_uri": "https://localhost:8080/",
          "height": 34
        }
      },
      "source": [
        "s(12)"
      ],
      "execution_count": 0,
      "outputs": [
        {
          "output_type": "execute_result",
          "data": {
            "text/plain": [
              "144"
            ]
          },
          "metadata": {
            "tags": []
          },
          "execution_count": 12
        }
      ]
    },
    {
      "cell_type": "code",
      "metadata": {
        "id": "Lez4jiRUWlfQ",
        "colab_type": "code",
        "outputId": "2f495397-07fa-45ec-e8e5-507e58debfec",
        "colab": {
          "base_uri": "https://localhost:8080/",
          "height": 34
        }
      },
      "source": [
        "add = lambda x,y : x+y\n",
        "add(12,20)"
      ],
      "execution_count": 0,
      "outputs": [
        {
          "output_type": "execute_result",
          "data": {
            "text/plain": [
              "32"
            ]
          },
          "metadata": {
            "tags": []
          },
          "execution_count": 13
        }
      ]
    },
    {
      "cell_type": "code",
      "metadata": {
        "id": "exQUd_aLWowT",
        "colab_type": "code",
        "colab": {}
      },
      "source": [
        "##map()"
      ],
      "execution_count": 0,
      "outputs": []
    },
    {
      "cell_type": "code",
      "metadata": {
        "id": "41Qy0sm4Wspf",
        "colab_type": "code",
        "outputId": "ba07de9a-dc71-47ec-c3f1-c20e0020a266",
        "colab": {
          "base_uri": "https://localhost:8080/",
          "height": 34
        }
      },
      "source": [
        "list6 = list(range(1,11))\n",
        "list6"
      ],
      "execution_count": 0,
      "outputs": [
        {
          "output_type": "execute_result",
          "data": {
            "text/plain": [
              "[1, 2, 3, 4, 5, 6, 7, 8, 9, 10]"
            ]
          },
          "metadata": {
            "tags": []
          },
          "execution_count": 14
        }
      ]
    },
    {
      "cell_type": "code",
      "metadata": {
        "id": "5kVFmsxMWvRv",
        "colab_type": "code",
        "outputId": "44653a1d-6503-4132-ba24-6e742d475834",
        "colab": {
          "base_uri": "https://localhost:8080/",
          "height": 34
        }
      },
      "source": [
        "list7 = [i*2 for i in list6]#by list comprehension\n",
        "result"
      ],
      "execution_count": 0,
      "outputs": [
        {
          "output_type": "execute_result",
          "data": {
            "text/plain": [
              "[12, 14, 16, 18, 20, 22, 24, 26, 28, 30]"
            ]
          },
          "metadata": {
            "tags": []
          },
          "execution_count": 15
        }
      ]
    },
    {
      "cell_type": "code",
      "metadata": {
        "id": "EgjZFgmCWzUB",
        "colab_type": "code",
        "colab": {}
      },
      "source": [
        "map(function_name,iterable object)"
      ],
      "execution_count": 0,
      "outputs": []
    },
    {
      "cell_type": "code",
      "metadata": {
        "id": "ROg3NlQCW3w-",
        "colab_type": "code",
        "outputId": "f2124b1e-e073-40d3-8e0b-0bf9330083d5",
        "colab": {
          "base_uri": "https://localhost:8080/",
          "height": 34
        }
      },
      "source": [
        "res = map(lambda i : i*2,list6)\n",
        "res#we get map object"
      ],
      "execution_count": 0,
      "outputs": [
        {
          "output_type": "execute_result",
          "data": {
            "text/plain": [
              "<map at 0x7f9d0e0ac6d8>"
            ]
          },
          "metadata": {
            "tags": []
          },
          "execution_count": 16
        }
      ]
    },
    {
      "cell_type": "code",
      "metadata": {
        "id": "QegIPCFAW6dA",
        "colab_type": "code",
        "outputId": "c51c091b-70fe-4a9e-99d6-089b48669e2e",
        "colab": {
          "base_uri": "https://localhost:8080/",
          "height": 34
        }
      },
      "source": [
        "res = list(map(lambda i : i*2,list6))\n",
        "res"
      ],
      "execution_count": 0,
      "outputs": [
        {
          "output_type": "execute_result",
          "data": {
            "text/plain": [
              "[2, 4, 6, 8, 10, 12, 14, 16, 18, 20]"
            ]
          },
          "metadata": {
            "tags": []
          },
          "execution_count": 17
        }
      ]
    },
    {
      "cell_type": "code",
      "metadata": {
        "id": "QQ7UFapzW9ik",
        "colab_type": "code",
        "outputId": "b98d37ba-9681-4778-8a20-32eb12b20f0c",
        "colab": {
          "base_uri": "https://localhost:8080/",
          "height": 34
        }
      },
      "source": [
        "'10 20 30'.split()"
      ],
      "execution_count": 0,
      "outputs": [
        {
          "output_type": "execute_result",
          "data": {
            "text/plain": [
              "['10', '20', '30']"
            ]
          },
          "metadata": {
            "tags": []
          },
          "execution_count": 18
        }
      ]
    },
    {
      "cell_type": "code",
      "metadata": {
        "id": "KlMJvpu7XAMP",
        "colab_type": "code",
        "outputId": "441ee709-9b09-4f9f-e226-4ce1899383d9",
        "colab": {
          "base_uri": "https://localhost:8080/",
          "height": 52
        }
      },
      "source": [
        "#unpacking\n",
        "x,y,z = list(map(int,input(\"enter your input:\").split())) #converting to int\n",
        "print(x,y,z)"
      ],
      "execution_count": 0,
      "outputs": [
        {
          "output_type": "stream",
          "text": [
            "enter your input:10 20 3\n",
            "10 20 3\n"
          ],
          "name": "stdout"
        }
      ]
    },
    {
      "cell_type": "code",
      "metadata": {
        "id": "Ldgje78IXCKg",
        "colab_type": "code",
        "colab": {}
      },
      "source": [
        "##Filter():"
      ],
      "execution_count": 0,
      "outputs": []
    },
    {
      "cell_type": "code",
      "metadata": {
        "id": "9-GXBWMMXHst",
        "colab_type": "code",
        "outputId": "0e8b11aa-acf1-4135-c4c4-184a6151cfd1",
        "colab": {
          "base_uri": "https://localhost:8080/",
          "height": 34
        }
      },
      "source": [
        "list6"
      ],
      "execution_count": 0,
      "outputs": [
        {
          "output_type": "execute_result",
          "data": {
            "text/plain": [
              "[1, 2, 3, 4, 5, 6, 7, 8, 9, 10]"
            ]
          },
          "metadata": {
            "tags": []
          },
          "execution_count": 20
        }
      ]
    },
    {
      "cell_type": "code",
      "metadata": {
        "id": "0ukOPLo6XJRv",
        "colab_type": "code",
        "outputId": "b559e1bd-a7b4-4e29-95fa-cc9f230c9ae5",
        "colab": {
          "base_uri": "https://localhost:8080/",
          "height": 34
        }
      },
      "source": [
        "result = []\n",
        "for i in list6:\n",
        "  if i%5 == 0:\n",
        "    result.append(i)\n",
        "result\n"
      ],
      "execution_count": 0,
      "outputs": [
        {
          "output_type": "execute_result",
          "data": {
            "text/plain": [
              "[5, 10]"
            ]
          },
          "metadata": {
            "tags": []
          },
          "execution_count": 21
        }
      ]
    },
    {
      "cell_type": "code",
      "metadata": {
        "id": "T5Jro42ZXLyu",
        "colab_type": "code",
        "outputId": "dd5fc719-07c1-44a8-f065-1d8d0f6376d7",
        "colab": {
          "base_uri": "https://localhost:8080/",
          "height": 34
        }
      },
      "source": [
        "filter(lambda x : (x%5 == 0),list6)"
      ],
      "execution_count": 0,
      "outputs": [
        {
          "output_type": "execute_result",
          "data": {
            "text/plain": [
              "<filter at 0x7f9d0e8e8ef0>"
            ]
          },
          "metadata": {
            "tags": []
          },
          "execution_count": 22
        }
      ]
    },
    {
      "cell_type": "code",
      "metadata": {
        "id": "i7AkDhDKXOXP",
        "colab_type": "code",
        "outputId": "64828359-66da-4519-a74b-fc95fb39f966",
        "colab": {
          "base_uri": "https://localhost:8080/",
          "height": 34
        }
      },
      "source": [
        "list(filter(lambda x : (x%5 == 0),list6))#filter should always return true or false"
      ],
      "execution_count": 0,
      "outputs": [
        {
          "output_type": "execute_result",
          "data": {
            "text/plain": [
              "[5, 10]"
            ]
          },
          "metadata": {
            "tags": []
          },
          "execution_count": 23
        }
      ]
    },
    {
      "cell_type": "code",
      "metadata": {
        "id": "gbSsngspXYhv",
        "colab_type": "code",
        "outputId": "a83c7542-338f-42a4-f152-53fbd5895f25",
        "colab": {
          "base_uri": "https://localhost:8080/",
          "height": 167
        }
      },
      "source": [
        "Reduce()"
      ],
      "execution_count": 0,
      "outputs": [
        {
          "output_type": "error",
          "ename": "NameError",
          "evalue": "ignored",
          "traceback": [
            "\u001b[0;31m---------------------------------------------------------------------------\u001b[0m",
            "\u001b[0;31mNameError\u001b[0m                                 Traceback (most recent call last)",
            "\u001b[0;32m<ipython-input-24-93c016c99ebd>\u001b[0m in \u001b[0;36m<module>\u001b[0;34m()\u001b[0m\n\u001b[0;32m----> 1\u001b[0;31m \u001b[0mReduce\u001b[0m\u001b[0;34m(\u001b[0m\u001b[0;34m)\u001b[0m\u001b[0;34m\u001b[0m\u001b[0;34m\u001b[0m\u001b[0m\n\u001b[0m",
            "\u001b[0;31mNameError\u001b[0m: name 'Reduce' is not defined"
          ]
        }
      ]
    },
    {
      "cell_type": "code",
      "metadata": {
        "id": "BcKnrlfwXbwu",
        "colab_type": "code",
        "colab": {}
      },
      "source": [
        "from functools import reduce#should be imported while using reduce            functools is module name and reduce is a method used\n"
      ],
      "execution_count": 0,
      "outputs": []
    },
    {
      "cell_type": "code",
      "metadata": {
        "id": "fw41dqHiXgG2",
        "colab_type": "code",
        "outputId": "d0446f53-1e9e-40ce-c81b-9fb6a7d18137",
        "colab": {
          "base_uri": "https://localhost:8080/",
          "height": 34
        }
      },
      "source": [
        "list1 = [1,2,3,4,5]\n",
        "#output:120\n",
        "m= 1\n",
        "for i in list1:\n",
        "  m *= i\n",
        "print(m)"
      ],
      "execution_count": 0,
      "outputs": [
        {
          "output_type": "stream",
          "text": [
            "120\n"
          ],
          "name": "stdout"
        }
      ]
    },
    {
      "cell_type": "code",
      "metadata": {
        "id": "nozH5aelXiJO",
        "colab_type": "code",
        "outputId": "990c2814-5b2a-4f2c-db5e-bb406eeef416",
        "colab": {
          "base_uri": "https://localhost:8080/",
          "height": 34
        }
      },
      "source": [
        "from functools import reduce\n",
        "reduce(lambda x,y:x*y,list1)"
      ],
      "execution_count": 0,
      "outputs": [
        {
          "output_type": "execute_result",
          "data": {
            "text/plain": [
              "120"
            ]
          },
          "metadata": {
            "tags": []
          },
          "execution_count": 26
        }
      ]
    },
    {
      "cell_type": "code",
      "metadata": {
        "id": "CThSSXL4XlYu",
        "colab_type": "code",
        "colab": {}
      },
      "source": [
        ""
      ],
      "execution_count": 0,
      "outputs": []
    }
  ]
}